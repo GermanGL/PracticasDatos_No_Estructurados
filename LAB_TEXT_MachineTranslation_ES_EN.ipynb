{
  "nbformat": 4,
  "nbformat_minor": 0,
  "metadata": {
    "kernelspec": {
      "display_name": "Python 3",
      "language": "python",
      "name": "python3"
    },
    "language_info": {
      "codemirror_mode": {
        "name": "ipython",
        "version": 3
      },
      "file_extension": ".py",
      "mimetype": "text/x-python",
      "name": "python",
      "nbconvert_exporter": "python",
      "pygments_lexer": "ipython3",
      "version": "3.7.4"
    },
    "colab": {
      "name": "LAB_TEXT_MachineTranslation_DE_EN.ipynb",
      "provenance": [],
      "collapsed_sections": [
        "vHAOzpf9qSwG",
        "B_R6rzXhqSwY"
      ]
    },
    "accelerator": "GPU"
  },
  "cells": [
    {
      "cell_type": "markdown",
      "metadata": {
        "id": "jLMIZiAPqSvx",
        "colab_type": "text"
      },
      "source": [
        "### Import Required Libraries"
      ]
    },
    {
      "cell_type": "code",
      "metadata": {
        "id": "wRkAXLnZqSvy",
        "colab_type": "code",
        "outputId": "875ae188-f569-4ab9-c993-72d992c5ac41",
        "colab": {
          "base_uri": "https://localhost:8080/",
          "height": 34
        }
      },
      "source": [
        "import string\n",
        "import re\n",
        "from numpy import array, argmax, random, take\n",
        "import pandas as pd\n",
        "from keras.models import Sequential\n",
        "from keras.layers import Dense, LSTM, Embedding, Bidirectional, RepeatVector, TimeDistributed\n",
        "from keras.preprocessing.text import Tokenizer\n",
        "from keras.callbacks import ModelCheckpoint\n",
        "from keras.preprocessing.sequence import pad_sequences\n",
        "from keras.models import load_model\n",
        "from keras import optimizers\n",
        "import matplotlib.pyplot as plt\n",
        "%matplotlib inline\n",
        "pd.set_option('display.max_colwidth', 200)"
      ],
      "execution_count": 0,
      "outputs": [
        {
          "output_type": "stream",
          "text": [
            "Using TensorFlow backend.\n"
          ],
          "name": "stderr"
        }
      ]
    },
    {
      "cell_type": "code",
      "metadata": {
        "id": "Q-3J_UnpqYOQ",
        "colab_type": "code",
        "outputId": "9dd7d6b5-c705-438d-8f4e-cc03b8d955d0",
        "colab": {
          "base_uri": "https://localhost:8080/",
          "height": 34
        }
      },
      "source": [
        "from google.colab import drive\n",
        "drive.mount('/content/drive')"
      ],
      "execution_count": 0,
      "outputs": [
        {
          "output_type": "stream",
          "text": [
            "Drive already mounted at /content/drive; to attempt to forcibly remount, call drive.mount(\"/content/drive\", force_remount=True).\n"
          ],
          "name": "stdout"
        }
      ]
    },
    {
      "cell_type": "code",
      "metadata": {
        "id": "EohJnqtIq_fh",
        "colab_type": "code",
        "outputId": "7e61ad9b-a474-4e14-900e-190899175a75",
        "colab": {
          "base_uri": "https://localhost:8080/",
          "height": 34
        }
      },
      "source": [
        "%cd drive/'My Drive'/TEXT/Machine_learning_ES"
      ],
      "execution_count": 0,
      "outputs": [
        {
          "output_type": "stream",
          "text": [
            "/content/drive/My Drive/TEXT/Machine_learning_ES\n"
          ],
          "name": "stdout"
        }
      ]
    },
    {
      "cell_type": "markdown",
      "metadata": {
        "id": "E1Sq3hudqSv4",
        "colab_type": "text"
      },
      "source": [
        "### Read Data"
      ]
    },
    {
      "cell_type": "markdown",
      "metadata": {
        "id": "dMZJWfVJqSv5",
        "colab_type": "text"
      },
      "source": [
        "Our data is a text file of English-Spanish sentence pairs. First we will read the file using the function defined below."
      ]
    },
    {
      "cell_type": "code",
      "metadata": {
        "id": "NDfg7zIUqSv5",
        "colab_type": "code",
        "colab": {}
      },
      "source": [
        "# function to read raw text file\n",
        "def read_text(filename):\n",
        "    # open the file\n",
        "    file = open(filename, mode='rt', encoding='utf-8')\n",
        "    # read all text\n",
        "    text = file.read()\n",
        "    file.close()\n",
        "    return text"
      ],
      "execution_count": 0,
      "outputs": []
    },
    {
      "cell_type": "markdown",
      "metadata": {
        "id": "dl1Lo1dcqSv8",
        "colab_type": "text"
      },
      "source": [
        "Now let's define a function to split the text into English-Spanish pairs separated by '\\n' and then split these pairs into English sentences and Spanish sentences."
      ]
    },
    {
      "cell_type": "code",
      "metadata": {
        "id": "jcmg7Ne3qSv8",
        "colab_type": "code",
        "colab": {}
      },
      "source": [
        "# split a text into sentences\n",
        "def to_lines(text):\n",
        "    sents = text.strip().split('\\n')\n",
        "    sents = [i.split('\\t') for i in sents]\n",
        "    return sents"
      ],
      "execution_count": 0,
      "outputs": []
    },
    {
      "cell_type": "code",
      "metadata": {
        "id": "l6sC1TQTeu-C",
        "colab_type": "code",
        "outputId": "9ef4fc17-4e4f-4117-b189-d5c2f7622a84",
        "colab": {
          "base_uri": "https://localhost:8080/",
          "height": 50
        }
      },
      "source": [
        "!ls"
      ],
      "execution_count": 0,
      "outputs": [
        {
          "output_type": "stream",
          "text": [
            "de_eng\t     LAB_TEXT_MachineTranslation_DE_EN.ipynb  README.md  spa-eng.zip\n",
            "deu-eng.zip  model.h1.24_jan_19\t\t\t      spa-eng\n"
          ],
          "name": "stdout"
        }
      ]
    },
    {
      "cell_type": "markdown",
      "metadata": {
        "id": "nCCz1PL-qSwA",
        "colab_type": "text"
      },
      "source": [
        "__Download the data from [here.](http://www.manythings.org/anki/deu-eng.zip)__ and extract \"deu.txt\" in your working directory."
      ]
    },
    {
      "cell_type": "code",
      "metadata": {
        "id": "NaMYlUN1qSwA",
        "colab_type": "code",
        "colab": {}
      },
      "source": [
        "data = read_text(\"spa-eng/spa.txt\")\n",
        "spa_eng = to_lines(data)\n",
        "spa_eng = array(spa_eng)"
      ],
      "execution_count": 0,
      "outputs": []
    },
    {
      "cell_type": "markdown",
      "metadata": {
        "id": "-izsqHwLqSwD",
        "colab_type": "text"
      },
      "source": [
        "The actual data contains over 150,000 sentence-pairs. However, we will use the first 50,000 sentence pairs only to reduce the training time of the model. You can change this number as per you system computation power."
      ]
    },
    {
      "cell_type": "code",
      "metadata": {
        "id": "MwTqODsVqSwD",
        "colab_type": "code",
        "colab": {}
      },
      "source": [
        "spa_eng = spa_eng[:50,:]"
      ],
      "execution_count": 0,
      "outputs": []
    },
    {
      "cell_type": "markdown",
      "metadata": {
        "id": "NYJNLQa8qSwG",
        "colab_type": "text"
      },
      "source": [
        "### Text Pre-Processing"
      ]
    },
    {
      "cell_type": "markdown",
      "metadata": {
        "id": "vHAOzpf9qSwG",
        "colab_type": "text"
      },
      "source": [
        "#### Text Cleaning\n",
        "\n",
        "Let's take a look at our data, then we will decide which pre-processing steps to adopt."
      ]
    },
    {
      "cell_type": "code",
      "metadata": {
        "scrolled": true,
        "id": "klkGBZ08qSwH",
        "colab_type": "code",
        "outputId": "1e491ea3-411e-43aa-aad8-c13cb450cd96",
        "colab": {
          "base_uri": "https://localhost:8080/"
        }
      },
      "source": [
        "spa_eng"
      ],
      "execution_count": 0,
      "outputs": [
        {
          "output_type": "execute_result",
          "data": {
            "text/plain": [
              "array([['Go.', 'Ve.',\n",
              "        'CC-BY 2.0 (France) Attribution: tatoeba.org #2877272 (CM) & #4986655 (cueyayotl)'],\n",
              "       ['Go.', 'Vete.',\n",
              "        'CC-BY 2.0 (France) Attribution: tatoeba.org #2877272 (CM) & #4986656 (cueyayotl)'],\n",
              "       ['Go.', 'Vaya.',\n",
              "        'CC-BY 2.0 (France) Attribution: tatoeba.org #2877272 (CM) & #4986657 (cueyayotl)'],\n",
              "       ['Go.', 'Váyase.',\n",
              "        'CC-BY 2.0 (France) Attribution: tatoeba.org #2877272 (CM) & #6586271 (arh)'],\n",
              "       ['Hi.', 'Hola.',\n",
              "        'CC-BY 2.0 (France) Attribution: tatoeba.org #538123 (CM) & #431975 (Leono)'],\n",
              "       ['Run!', '¡Corre!',\n",
              "        'CC-BY 2.0 (France) Attribution: tatoeba.org #906328 (papabear) & #1685404 (Elenitigormiti)'],\n",
              "       ['Run!', '¡Corran!',\n",
              "        'CC-BY 2.0 (France) Attribution: tatoeba.org #906328 (papabear) & #5213896 (cueyayotl)'],\n",
              "       ['Run!', '¡Corra!',\n",
              "        'CC-BY 2.0 (France) Attribution: tatoeba.org #906328 (papabear) & #8005613 (Seael)'],\n",
              "       ['Run!', '¡Corred!',\n",
              "        'CC-BY 2.0 (France) Attribution: tatoeba.org #906328 (papabear) & #8005615 (Seael)'],\n",
              "       ['Run.', 'Corred.',\n",
              "        'CC-BY 2.0 (France) Attribution: tatoeba.org #4008918 (JSakuragi) & #6681472 (arh)'],\n",
              "       ['Who?', '¿Quién?',\n",
              "        'CC-BY 2.0 (France) Attribution: tatoeba.org #2083030 (CK) & #2122720 (Shishir)'],\n",
              "       ['Wow!', '¡Órale!',\n",
              "        'CC-BY 2.0 (France) Attribution: tatoeba.org #52027 (Zifre) & #4726230 (cueyayotl)'],\n",
              "       ['Fire!', '¡Fuego!',\n",
              "        'CC-BY 2.0 (France) Attribution: tatoeba.org #1829639 (Spamster) & #1832096 (Shishir)'],\n",
              "       ['Fire!', '¡Incendio!',\n",
              "        'CC-BY 2.0 (France) Attribution: tatoeba.org #1829639 (Spamster) & #3112459 (marcelostockle)'],\n",
              "       ['Fire!', '¡Disparad!',\n",
              "        'CC-BY 2.0 (France) Attribution: tatoeba.org #1829639 (Spamster) & #3112460 (marcelostockle)'],\n",
              "       ['Help!', '¡Ayuda!',\n",
              "        'CC-BY 2.0 (France) Attribution: tatoeba.org #435084 (lukaszpp) & #927374 (mrc3306)'],\n",
              "       ['Help!', '¡Socorro! ¡Auxilio!',\n",
              "        'CC-BY 2.0 (France) Attribution: tatoeba.org #435084 (lukaszpp) & #1216469 (wallebot)'],\n",
              "       ['Help!', '¡Auxilio!',\n",
              "        'CC-BY 2.0 (France) Attribution: tatoeba.org #435084 (lukaszpp) & #1343034 (marcelostockle)'],\n",
              "       ['Jump!', '¡Salta!',\n",
              "        'CC-BY 2.0 (France) Attribution: tatoeba.org #1102981 (jamessilver) & #1503535 (marcelostockle)'],\n",
              "       ['Jump.', 'Salte.',\n",
              "        'CC-BY 2.0 (France) Attribution: tatoeba.org #631038 (Shishir) & #607995 (arashi_29)'],\n",
              "       ['Stop!', '¡Parad!',\n",
              "        'CC-BY 2.0 (France) Attribution: tatoeba.org #448320 (FeuDRenais) & #4347076 (saverius)'],\n",
              "       ['Stop!', '¡Para!',\n",
              "        'CC-BY 2.0 (France) Attribution: tatoeba.org #448320 (FeuDRenais) & #5669421 (cueyayotl)'],\n",
              "       ['Stop!', '¡Pare!',\n",
              "        'CC-BY 2.0 (France) Attribution: tatoeba.org #448320 (FeuDRenais) & #5669422 (cueyayotl)'],\n",
              "       ['Wait!', '¡Espera!',\n",
              "        'CC-BY 2.0 (France) Attribution: tatoeba.org #1744314 (belgavox) & #2122717 (Shishir)'],\n",
              "       ['Wait.', 'Esperen.',\n",
              "        'CC-BY 2.0 (France) Attribution: tatoeba.org #3048304 (camilozeta) & #3048255 (hayastan)'],\n",
              "       ['Go on.', 'Continúa.',\n",
              "        'CC-BY 2.0 (France) Attribution: tatoeba.org #2230774 (CK) & #4940109 (Francisco_M)'],\n",
              "       ['Go on.', 'Continúe.',\n",
              "        'CC-BY 2.0 (France) Attribution: tatoeba.org #2230774 (CK) & #4940116 (Francisco_M)'],\n",
              "       ['Hello!', 'Hola.',\n",
              "        'CC-BY 2.0 (France) Attribution: tatoeba.org #373330 (CK) & #431975 (Leono)'],\n",
              "       ['I ran.', 'Corrí.',\n",
              "        'CC-BY 2.0 (France) Attribution: tatoeba.org #5828607 (CK) & #6682393 (arh)'],\n",
              "       ['I ran.', 'Corría.',\n",
              "        'CC-BY 2.0 (France) Attribution: tatoeba.org #5828607 (CK) & #6682394 (arh)'],\n",
              "       ['I try.', 'Lo intento.',\n",
              "        'CC-BY 2.0 (France) Attribution: tatoeba.org #20776 (CK) & #1449864 (nullsoul9)'],\n",
              "       ['I won!', '¡He ganado!',\n",
              "        'CC-BY 2.0 (France) Attribution: tatoeba.org #2005192 (CK) & #2351590 (Shishir)'],\n",
              "       ['Oh no!', '¡Oh, no!',\n",
              "        'CC-BY 2.0 (France) Attribution: tatoeba.org #1299275 (CK) & #5056288 (don_ramon)'],\n",
              "       ['Relax.', 'Tomátelo con soda.',\n",
              "        'CC-BY 2.0 (France) Attribution: tatoeba.org #1722133 (shanghainese) & #5124533 (ecorralest101)'],\n",
              "       ['Shoot!', '¡Fuego!',\n",
              "        'CC-BY 2.0 (France) Attribution: tatoeba.org #7422159 (CM) & #1832096 (Shishir)'],\n",
              "       ['Shoot!', '¡Disparad!',\n",
              "        'CC-BY 2.0 (France) Attribution: tatoeba.org #7422159 (CM) & #3112460 (marcelostockle)'],\n",
              "       ['Shoot!', '¡Disparen!',\n",
              "        'CC-BY 2.0 (France) Attribution: tatoeba.org #7422159 (CM) & #3285306 (cueyayotl)'],\n",
              "       ['Shoot!', '¡Dispara!',\n",
              "        'CC-BY 2.0 (France) Attribution: tatoeba.org #7422159 (CM) & #7936886 (Seael)'],\n",
              "       ['Shoot!', '¡Dispará!',\n",
              "        'CC-BY 2.0 (France) Attribution: tatoeba.org #7422159 (CM) & #7936887 (Seael)'],\n",
              "       ['Shoot!', '¡Dispare!',\n",
              "        'CC-BY 2.0 (France) Attribution: tatoeba.org #7422159 (CM) & #7936888 (Seael)'],\n",
              "       ['Smile.', 'Sonríe.',\n",
              "        'CC-BY 2.0 (France) Attribution: tatoeba.org #2764108 (CK) & #1852302 (Shishir)'],\n",
              "       ['Attack!', '¡Al ataque!',\n",
              "        'CC-BY 2.0 (France) Attribution: tatoeba.org #1972610 (CK) & #4554129 (swyter)'],\n",
              "       ['Attack!', '¡Atacad!',\n",
              "        'CC-BY 2.0 (France) Attribution: tatoeba.org #1972610 (CK) & #4554130 (swyter)'],\n",
              "       ['Attack!', '¡Ataque!',\n",
              "        'CC-BY 2.0 (France) Attribution: tatoeba.org #1972610 (CK) & #8005608 (Seael)'],\n",
              "       ['Attack!', '¡Ataquen!',\n",
              "        'CC-BY 2.0 (France) Attribution: tatoeba.org #1972610 (CK) & #8005609 (Seael)'],\n",
              "       ['Attack!', '¡Ataca!',\n",
              "        'CC-BY 2.0 (France) Attribution: tatoeba.org #1972610 (CK) & #8005610 (Seael)'],\n",
              "       ['Get up.', 'Levanta.',\n",
              "        'CC-BY 2.0 (France) Attribution: tatoeba.org #896158 (pauldhunt) & #5769212 (arh)'],\n",
              "       ['Go now.', 'Ve ahora mismo.',\n",
              "        'CC-BY 2.0 (France) Attribution: tatoeba.org #2230771 (CK) & #5165878 (cueyayotl)'],\n",
              "       ['Go now.', 'Id ahora mismo.',\n",
              "        'CC-BY 2.0 (France) Attribution: tatoeba.org #2230771 (CK) & #8005616 (Seael)'],\n",
              "       ['Go now.', 'Vaya ahora mismo.',\n",
              "        'CC-BY 2.0 (France) Attribution: tatoeba.org #2230771 (CK) & #8005617 (Seael)']],\n",
              "      dtype='<U332')"
            ]
          },
          "metadata": {
            "tags": []
          },
          "execution_count": 10
        }
      ]
    },
    {
      "cell_type": "markdown",
      "metadata": {
        "id": "QQkOdGvQqSwM",
        "colab_type": "text"
      },
      "source": [
        "We will get rid of the punctuation marks, and then convert the text to lower case."
      ]
    },
    {
      "cell_type": "code",
      "metadata": {
        "id": "pci3hGBPqSwM",
        "colab_type": "code",
        "colab": {}
      },
      "source": [
        "# Remove punctuation\n",
        "spa_eng[:,0] = [s.translate(str.maketrans('', '', string.punctuation)) for s in spa_eng[:,0]]\n",
        "spa_eng[:,1] = [s.translate(str.maketrans('', '', string.punctuation)) for s in spa_eng[:,1]]"
      ],
      "execution_count": 0,
      "outputs": []
    },
    {
      "cell_type": "code",
      "metadata": {
        "id": "yXLCPbTbqSwP",
        "colab_type": "code",
        "outputId": "a4750e0d-1cc4-4176-ba0a-c4815e83f54b",
        "colab": {
          "base_uri": "https://localhost:8080/"
        }
      },
      "source": [
        "spa_eng"
      ],
      "execution_count": 0,
      "outputs": [
        {
          "output_type": "execute_result",
          "data": {
            "text/plain": [
              "array([['Go', 'Ve',\n",
              "        'CC-BY 2.0 (France) Attribution: tatoeba.org #2877272 (CM) & #4986655 (cueyayotl)'],\n",
              "       ['Go', 'Vete',\n",
              "        'CC-BY 2.0 (France) Attribution: tatoeba.org #2877272 (CM) & #4986656 (cueyayotl)'],\n",
              "       ['Go', 'Vaya',\n",
              "        'CC-BY 2.0 (France) Attribution: tatoeba.org #2877272 (CM) & #4986657 (cueyayotl)'],\n",
              "       ['Go', 'Váyase',\n",
              "        'CC-BY 2.0 (France) Attribution: tatoeba.org #2877272 (CM) & #6586271 (arh)'],\n",
              "       ['Hi', 'Hola',\n",
              "        'CC-BY 2.0 (France) Attribution: tatoeba.org #538123 (CM) & #431975 (Leono)'],\n",
              "       ['Run', '¡Corre',\n",
              "        'CC-BY 2.0 (France) Attribution: tatoeba.org #906328 (papabear) & #1685404 (Elenitigormiti)'],\n",
              "       ['Run', '¡Corran',\n",
              "        'CC-BY 2.0 (France) Attribution: tatoeba.org #906328 (papabear) & #5213896 (cueyayotl)'],\n",
              "       ['Run', '¡Corra',\n",
              "        'CC-BY 2.0 (France) Attribution: tatoeba.org #906328 (papabear) & #8005613 (Seael)'],\n",
              "       ['Run', '¡Corred',\n",
              "        'CC-BY 2.0 (France) Attribution: tatoeba.org #906328 (papabear) & #8005615 (Seael)'],\n",
              "       ['Run', 'Corred',\n",
              "        'CC-BY 2.0 (France) Attribution: tatoeba.org #4008918 (JSakuragi) & #6681472 (arh)'],\n",
              "       ['Who', '¿Quién',\n",
              "        'CC-BY 2.0 (France) Attribution: tatoeba.org #2083030 (CK) & #2122720 (Shishir)'],\n",
              "       ['Wow', '¡Órale',\n",
              "        'CC-BY 2.0 (France) Attribution: tatoeba.org #52027 (Zifre) & #4726230 (cueyayotl)'],\n",
              "       ['Fire', '¡Fuego',\n",
              "        'CC-BY 2.0 (France) Attribution: tatoeba.org #1829639 (Spamster) & #1832096 (Shishir)'],\n",
              "       ['Fire', '¡Incendio',\n",
              "        'CC-BY 2.0 (France) Attribution: tatoeba.org #1829639 (Spamster) & #3112459 (marcelostockle)'],\n",
              "       ['Fire', '¡Disparad',\n",
              "        'CC-BY 2.0 (France) Attribution: tatoeba.org #1829639 (Spamster) & #3112460 (marcelostockle)'],\n",
              "       ['Help', '¡Ayuda',\n",
              "        'CC-BY 2.0 (France) Attribution: tatoeba.org #435084 (lukaszpp) & #927374 (mrc3306)'],\n",
              "       ['Help', '¡Socorro ¡Auxilio',\n",
              "        'CC-BY 2.0 (France) Attribution: tatoeba.org #435084 (lukaszpp) & #1216469 (wallebot)'],\n",
              "       ['Help', '¡Auxilio',\n",
              "        'CC-BY 2.0 (France) Attribution: tatoeba.org #435084 (lukaszpp) & #1343034 (marcelostockle)'],\n",
              "       ['Jump', '¡Salta',\n",
              "        'CC-BY 2.0 (France) Attribution: tatoeba.org #1102981 (jamessilver) & #1503535 (marcelostockle)'],\n",
              "       ['Jump', 'Salte',\n",
              "        'CC-BY 2.0 (France) Attribution: tatoeba.org #631038 (Shishir) & #607995 (arashi_29)'],\n",
              "       ['Stop', '¡Parad',\n",
              "        'CC-BY 2.0 (France) Attribution: tatoeba.org #448320 (FeuDRenais) & #4347076 (saverius)'],\n",
              "       ['Stop', '¡Para',\n",
              "        'CC-BY 2.0 (France) Attribution: tatoeba.org #448320 (FeuDRenais) & #5669421 (cueyayotl)'],\n",
              "       ['Stop', '¡Pare',\n",
              "        'CC-BY 2.0 (France) Attribution: tatoeba.org #448320 (FeuDRenais) & #5669422 (cueyayotl)'],\n",
              "       ['Wait', '¡Espera',\n",
              "        'CC-BY 2.0 (France) Attribution: tatoeba.org #1744314 (belgavox) & #2122717 (Shishir)'],\n",
              "       ['Wait', 'Esperen',\n",
              "        'CC-BY 2.0 (France) Attribution: tatoeba.org #3048304 (camilozeta) & #3048255 (hayastan)'],\n",
              "       ['Go on', 'Continúa',\n",
              "        'CC-BY 2.0 (France) Attribution: tatoeba.org #2230774 (CK) & #4940109 (Francisco_M)'],\n",
              "       ['Go on', 'Continúe',\n",
              "        'CC-BY 2.0 (France) Attribution: tatoeba.org #2230774 (CK) & #4940116 (Francisco_M)'],\n",
              "       ['Hello', 'Hola',\n",
              "        'CC-BY 2.0 (France) Attribution: tatoeba.org #373330 (CK) & #431975 (Leono)'],\n",
              "       ['I ran', 'Corrí',\n",
              "        'CC-BY 2.0 (France) Attribution: tatoeba.org #5828607 (CK) & #6682393 (arh)'],\n",
              "       ['I ran', 'Corría',\n",
              "        'CC-BY 2.0 (France) Attribution: tatoeba.org #5828607 (CK) & #6682394 (arh)'],\n",
              "       ['I try', 'Lo intento',\n",
              "        'CC-BY 2.0 (France) Attribution: tatoeba.org #20776 (CK) & #1449864 (nullsoul9)'],\n",
              "       ['I won', '¡He ganado',\n",
              "        'CC-BY 2.0 (France) Attribution: tatoeba.org #2005192 (CK) & #2351590 (Shishir)'],\n",
              "       ['Oh no', '¡Oh no',\n",
              "        'CC-BY 2.0 (France) Attribution: tatoeba.org #1299275 (CK) & #5056288 (don_ramon)'],\n",
              "       ['Relax', 'Tomátelo con soda',\n",
              "        'CC-BY 2.0 (France) Attribution: tatoeba.org #1722133 (shanghainese) & #5124533 (ecorralest101)'],\n",
              "       ['Shoot', '¡Fuego',\n",
              "        'CC-BY 2.0 (France) Attribution: tatoeba.org #7422159 (CM) & #1832096 (Shishir)'],\n",
              "       ['Shoot', '¡Disparad',\n",
              "        'CC-BY 2.0 (France) Attribution: tatoeba.org #7422159 (CM) & #3112460 (marcelostockle)'],\n",
              "       ['Shoot', '¡Disparen',\n",
              "        'CC-BY 2.0 (France) Attribution: tatoeba.org #7422159 (CM) & #3285306 (cueyayotl)'],\n",
              "       ['Shoot', '¡Dispara',\n",
              "        'CC-BY 2.0 (France) Attribution: tatoeba.org #7422159 (CM) & #7936886 (Seael)'],\n",
              "       ['Shoot', '¡Dispará',\n",
              "        'CC-BY 2.0 (France) Attribution: tatoeba.org #7422159 (CM) & #7936887 (Seael)'],\n",
              "       ['Shoot', '¡Dispare',\n",
              "        'CC-BY 2.0 (France) Attribution: tatoeba.org #7422159 (CM) & #7936888 (Seael)'],\n",
              "       ['Smile', 'Sonríe',\n",
              "        'CC-BY 2.0 (France) Attribution: tatoeba.org #2764108 (CK) & #1852302 (Shishir)'],\n",
              "       ['Attack', '¡Al ataque',\n",
              "        'CC-BY 2.0 (France) Attribution: tatoeba.org #1972610 (CK) & #4554129 (swyter)'],\n",
              "       ['Attack', '¡Atacad',\n",
              "        'CC-BY 2.0 (France) Attribution: tatoeba.org #1972610 (CK) & #4554130 (swyter)'],\n",
              "       ['Attack', '¡Ataque',\n",
              "        'CC-BY 2.0 (France) Attribution: tatoeba.org #1972610 (CK) & #8005608 (Seael)'],\n",
              "       ['Attack', '¡Ataquen',\n",
              "        'CC-BY 2.0 (France) Attribution: tatoeba.org #1972610 (CK) & #8005609 (Seael)'],\n",
              "       ['Attack', '¡Ataca',\n",
              "        'CC-BY 2.0 (France) Attribution: tatoeba.org #1972610 (CK) & #8005610 (Seael)'],\n",
              "       ['Get up', 'Levanta',\n",
              "        'CC-BY 2.0 (France) Attribution: tatoeba.org #896158 (pauldhunt) & #5769212 (arh)'],\n",
              "       ['Go now', 'Ve ahora mismo',\n",
              "        'CC-BY 2.0 (France) Attribution: tatoeba.org #2230771 (CK) & #5165878 (cueyayotl)'],\n",
              "       ['Go now', 'Id ahora mismo',\n",
              "        'CC-BY 2.0 (France) Attribution: tatoeba.org #2230771 (CK) & #8005616 (Seael)'],\n",
              "       ['Go now', 'Vaya ahora mismo',\n",
              "        'CC-BY 2.0 (France) Attribution: tatoeba.org #2230771 (CK) & #8005617 (Seael)']],\n",
              "      dtype='<U332')"
            ]
          },
          "metadata": {
            "tags": []
          },
          "execution_count": 12
        }
      ]
    },
    {
      "cell_type": "code",
      "metadata": {
        "scrolled": true,
        "id": "VvAl9X-LqSwS",
        "colab_type": "code",
        "colab": {}
      },
      "source": [
        "# convert to lowercase\n",
        "for i in range(len(spa_eng)):\n",
        "    spa_eng[i,0] = spa_eng[i,0].lower()\n",
        "    \n",
        "    spa_eng[i,1] = spa_eng[i,1].lower()"
      ],
      "execution_count": 0,
      "outputs": []
    },
    {
      "cell_type": "code",
      "metadata": {
        "id": "drlNGf2aqSwV",
        "colab_type": "code",
        "outputId": "5137f342-dea2-47ec-880f-b739cc58829f",
        "colab": {
          "base_uri": "https://localhost:8080/"
        }
      },
      "source": [
        "spa_eng"
      ],
      "execution_count": 0,
      "outputs": [
        {
          "output_type": "execute_result",
          "data": {
            "text/plain": [
              "array([['go', 've',\n",
              "        'CC-BY 2.0 (France) Attribution: tatoeba.org #2877272 (CM) & #4986655 (cueyayotl)'],\n",
              "       ['go', 'vete',\n",
              "        'CC-BY 2.0 (France) Attribution: tatoeba.org #2877272 (CM) & #4986656 (cueyayotl)'],\n",
              "       ['go', 'vaya',\n",
              "        'CC-BY 2.0 (France) Attribution: tatoeba.org #2877272 (CM) & #4986657 (cueyayotl)'],\n",
              "       ['go', 'váyase',\n",
              "        'CC-BY 2.0 (France) Attribution: tatoeba.org #2877272 (CM) & #6586271 (arh)'],\n",
              "       ['hi', 'hola',\n",
              "        'CC-BY 2.0 (France) Attribution: tatoeba.org #538123 (CM) & #431975 (Leono)'],\n",
              "       ['run', '¡corre',\n",
              "        'CC-BY 2.0 (France) Attribution: tatoeba.org #906328 (papabear) & #1685404 (Elenitigormiti)'],\n",
              "       ['run', '¡corran',\n",
              "        'CC-BY 2.0 (France) Attribution: tatoeba.org #906328 (papabear) & #5213896 (cueyayotl)'],\n",
              "       ['run', '¡corra',\n",
              "        'CC-BY 2.0 (France) Attribution: tatoeba.org #906328 (papabear) & #8005613 (Seael)'],\n",
              "       ['run', '¡corred',\n",
              "        'CC-BY 2.0 (France) Attribution: tatoeba.org #906328 (papabear) & #8005615 (Seael)'],\n",
              "       ['run', 'corred',\n",
              "        'CC-BY 2.0 (France) Attribution: tatoeba.org #4008918 (JSakuragi) & #6681472 (arh)'],\n",
              "       ['who', '¿quién',\n",
              "        'CC-BY 2.0 (France) Attribution: tatoeba.org #2083030 (CK) & #2122720 (Shishir)'],\n",
              "       ['wow', '¡órale',\n",
              "        'CC-BY 2.0 (France) Attribution: tatoeba.org #52027 (Zifre) & #4726230 (cueyayotl)'],\n",
              "       ['fire', '¡fuego',\n",
              "        'CC-BY 2.0 (France) Attribution: tatoeba.org #1829639 (Spamster) & #1832096 (Shishir)'],\n",
              "       ['fire', '¡incendio',\n",
              "        'CC-BY 2.0 (France) Attribution: tatoeba.org #1829639 (Spamster) & #3112459 (marcelostockle)'],\n",
              "       ['fire', '¡disparad',\n",
              "        'CC-BY 2.0 (France) Attribution: tatoeba.org #1829639 (Spamster) & #3112460 (marcelostockle)'],\n",
              "       ['help', '¡ayuda',\n",
              "        'CC-BY 2.0 (France) Attribution: tatoeba.org #435084 (lukaszpp) & #927374 (mrc3306)'],\n",
              "       ['help', '¡socorro ¡auxilio',\n",
              "        'CC-BY 2.0 (France) Attribution: tatoeba.org #435084 (lukaszpp) & #1216469 (wallebot)'],\n",
              "       ['help', '¡auxilio',\n",
              "        'CC-BY 2.0 (France) Attribution: tatoeba.org #435084 (lukaszpp) & #1343034 (marcelostockle)'],\n",
              "       ['jump', '¡salta',\n",
              "        'CC-BY 2.0 (France) Attribution: tatoeba.org #1102981 (jamessilver) & #1503535 (marcelostockle)'],\n",
              "       ['jump', 'salte',\n",
              "        'CC-BY 2.0 (France) Attribution: tatoeba.org #631038 (Shishir) & #607995 (arashi_29)'],\n",
              "       ['stop', '¡parad',\n",
              "        'CC-BY 2.0 (France) Attribution: tatoeba.org #448320 (FeuDRenais) & #4347076 (saverius)'],\n",
              "       ['stop', '¡para',\n",
              "        'CC-BY 2.0 (France) Attribution: tatoeba.org #448320 (FeuDRenais) & #5669421 (cueyayotl)'],\n",
              "       ['stop', '¡pare',\n",
              "        'CC-BY 2.0 (France) Attribution: tatoeba.org #448320 (FeuDRenais) & #5669422 (cueyayotl)'],\n",
              "       ['wait', '¡espera',\n",
              "        'CC-BY 2.0 (France) Attribution: tatoeba.org #1744314 (belgavox) & #2122717 (Shishir)'],\n",
              "       ['wait', 'esperen',\n",
              "        'CC-BY 2.0 (France) Attribution: tatoeba.org #3048304 (camilozeta) & #3048255 (hayastan)'],\n",
              "       ['go on', 'continúa',\n",
              "        'CC-BY 2.0 (France) Attribution: tatoeba.org #2230774 (CK) & #4940109 (Francisco_M)'],\n",
              "       ['go on', 'continúe',\n",
              "        'CC-BY 2.0 (France) Attribution: tatoeba.org #2230774 (CK) & #4940116 (Francisco_M)'],\n",
              "       ['hello', 'hola',\n",
              "        'CC-BY 2.0 (France) Attribution: tatoeba.org #373330 (CK) & #431975 (Leono)'],\n",
              "       ['i ran', 'corrí',\n",
              "        'CC-BY 2.0 (France) Attribution: tatoeba.org #5828607 (CK) & #6682393 (arh)'],\n",
              "       ['i ran', 'corría',\n",
              "        'CC-BY 2.0 (France) Attribution: tatoeba.org #5828607 (CK) & #6682394 (arh)'],\n",
              "       ['i try', 'lo intento',\n",
              "        'CC-BY 2.0 (France) Attribution: tatoeba.org #20776 (CK) & #1449864 (nullsoul9)'],\n",
              "       ['i won', '¡he ganado',\n",
              "        'CC-BY 2.0 (France) Attribution: tatoeba.org #2005192 (CK) & #2351590 (Shishir)'],\n",
              "       ['oh no', '¡oh no',\n",
              "        'CC-BY 2.0 (France) Attribution: tatoeba.org #1299275 (CK) & #5056288 (don_ramon)'],\n",
              "       ['relax', 'tomátelo con soda',\n",
              "        'CC-BY 2.0 (France) Attribution: tatoeba.org #1722133 (shanghainese) & #5124533 (ecorralest101)'],\n",
              "       ['shoot', '¡fuego',\n",
              "        'CC-BY 2.0 (France) Attribution: tatoeba.org #7422159 (CM) & #1832096 (Shishir)'],\n",
              "       ['shoot', '¡disparad',\n",
              "        'CC-BY 2.0 (France) Attribution: tatoeba.org #7422159 (CM) & #3112460 (marcelostockle)'],\n",
              "       ['shoot', '¡disparen',\n",
              "        'CC-BY 2.0 (France) Attribution: tatoeba.org #7422159 (CM) & #3285306 (cueyayotl)'],\n",
              "       ['shoot', '¡dispara',\n",
              "        'CC-BY 2.0 (France) Attribution: tatoeba.org #7422159 (CM) & #7936886 (Seael)'],\n",
              "       ['shoot', '¡dispará',\n",
              "        'CC-BY 2.0 (France) Attribution: tatoeba.org #7422159 (CM) & #7936887 (Seael)'],\n",
              "       ['shoot', '¡dispare',\n",
              "        'CC-BY 2.0 (France) Attribution: tatoeba.org #7422159 (CM) & #7936888 (Seael)'],\n",
              "       ['smile', 'sonríe',\n",
              "        'CC-BY 2.0 (France) Attribution: tatoeba.org #2764108 (CK) & #1852302 (Shishir)'],\n",
              "       ['attack', '¡al ataque',\n",
              "        'CC-BY 2.0 (France) Attribution: tatoeba.org #1972610 (CK) & #4554129 (swyter)'],\n",
              "       ['attack', '¡atacad',\n",
              "        'CC-BY 2.0 (France) Attribution: tatoeba.org #1972610 (CK) & #4554130 (swyter)'],\n",
              "       ['attack', '¡ataque',\n",
              "        'CC-BY 2.0 (France) Attribution: tatoeba.org #1972610 (CK) & #8005608 (Seael)'],\n",
              "       ['attack', '¡ataquen',\n",
              "        'CC-BY 2.0 (France) Attribution: tatoeba.org #1972610 (CK) & #8005609 (Seael)'],\n",
              "       ['attack', '¡ataca',\n",
              "        'CC-BY 2.0 (France) Attribution: tatoeba.org #1972610 (CK) & #8005610 (Seael)'],\n",
              "       ['get up', 'levanta',\n",
              "        'CC-BY 2.0 (France) Attribution: tatoeba.org #896158 (pauldhunt) & #5769212 (arh)'],\n",
              "       ['go now', 've ahora mismo',\n",
              "        'CC-BY 2.0 (France) Attribution: tatoeba.org #2230771 (CK) & #5165878 (cueyayotl)'],\n",
              "       ['go now', 'id ahora mismo',\n",
              "        'CC-BY 2.0 (France) Attribution: tatoeba.org #2230771 (CK) & #8005616 (Seael)'],\n",
              "       ['go now', 'vaya ahora mismo',\n",
              "        'CC-BY 2.0 (France) Attribution: tatoeba.org #2230771 (CK) & #8005617 (Seael)']],\n",
              "      dtype='<U332')"
            ]
          },
          "metadata": {
            "tags": []
          },
          "execution_count": 14
        }
      ]
    },
    {
      "cell_type": "markdown",
      "metadata": {
        "id": "B_R6rzXhqSwY",
        "colab_type": "text"
      },
      "source": [
        "#### Text to Sequence Conversion\n",
        "\n",
        "To feed our data in a Seq2Seq model, we will have to convert both the input and the output sentences into integer sequences of fixed length. Before that, let's visualise the length of the sentences. We will capture the lengths of all the sentences in two separate lists for English and Spanish, respectively."
      ]
    },
    {
      "cell_type": "code",
      "metadata": {
        "id": "r5jFmqnYqSwY",
        "colab_type": "code",
        "colab": {}
      },
      "source": [
        "# empty lists\n",
        "eng_l = []\n",
        "spa_l = []\n",
        "\n",
        "# populate the lists with sentence lengths\n",
        "for i in spa_eng[:,0]:\n",
        "    eng_l.append(len(i.split()))\n",
        "\n",
        "for i in spa_eng[:,1]:\n",
        "    spa_l.append(len(i.split()))"
      ],
      "execution_count": 0,
      "outputs": []
    },
    {
      "cell_type": "code",
      "metadata": {
        "id": "SNYZ58o1fJVE",
        "colab_type": "code",
        "outputId": "eda6182e-2f87-4541-f17e-e49850bc4ebd",
        "colab": {
          "base_uri": "https://localhost:8080/"
        }
      },
      "source": [
        " spa_eng[:,1]"
      ],
      "execution_count": 0,
      "outputs": [
        {
          "output_type": "execute_result",
          "data": {
            "text/plain": [
              "array(['ve', 'vete', 'vaya', 'váyase', 'hola', '¡corre', '¡corran',\n",
              "       '¡corra', '¡corred', 'corred', '¿quién', '¡órale', '¡fuego',\n",
              "       '¡incendio', '¡disparad', '¡ayuda', '¡socorro ¡auxilio',\n",
              "       '¡auxilio', '¡salta', 'salte', '¡parad', '¡para', '¡pare',\n",
              "       '¡espera', 'esperen', 'continúa', 'continúe', 'hola', 'corrí',\n",
              "       'corría', 'lo intento', '¡he ganado', '¡oh no',\n",
              "       'tomátelo con soda', '¡fuego', '¡disparad', '¡disparen',\n",
              "       '¡dispara', '¡dispará', '¡dispare', 'sonríe', '¡al ataque',\n",
              "       '¡atacad', '¡ataque', '¡ataquen', '¡ataca', 'levanta',\n",
              "       've ahora mismo', 'id ahora mismo', 'vaya ahora mismo'],\n",
              "      dtype='<U332')"
            ]
          },
          "metadata": {
            "tags": []
          },
          "execution_count": 16
        }
      ]
    },
    {
      "cell_type": "code",
      "metadata": {
        "id": "mSmbtoFoqSwa",
        "colab_type": "code",
        "outputId": "ebdff011-f079-4aa9-8b52-497d6a583b3d",
        "colab": {
          "base_uri": "https://localhost:8080/"
        }
      },
      "source": [
        "length_df = pd.DataFrame({'eng':eng_l, 'spa':spa_l})\n",
        "print(length_df)\n",
        "print(max(length_df.eng))\n",
        "print(max(length_df.spa))"
      ],
      "execution_count": 0,
      "outputs": [
        {
          "output_type": "stream",
          "text": [
            "    eng  spa\n",
            "0     1    1\n",
            "1     1    1\n",
            "2     1    1\n",
            "3     1    1\n",
            "4     1    1\n",
            "5     1    1\n",
            "6     1    1\n",
            "7     1    1\n",
            "8     1    1\n",
            "9     1    1\n",
            "10    1    1\n",
            "11    1    1\n",
            "12    1    1\n",
            "13    1    1\n",
            "14    1    1\n",
            "15    1    1\n",
            "16    1    2\n",
            "17    1    1\n",
            "18    1    1\n",
            "19    1    1\n",
            "20    1    1\n",
            "21    1    1\n",
            "22    1    1\n",
            "23    1    1\n",
            "24    1    1\n",
            "25    2    1\n",
            "26    2    1\n",
            "27    1    1\n",
            "28    2    1\n",
            "29    2    1\n",
            "30    2    2\n",
            "31    2    2\n",
            "32    2    2\n",
            "33    1    3\n",
            "34    1    1\n",
            "35    1    1\n",
            "36    1    1\n",
            "37    1    1\n",
            "38    1    1\n",
            "39    1    1\n",
            "40    1    1\n",
            "41    1    2\n",
            "42    1    1\n",
            "43    1    1\n",
            "44    1    1\n",
            "45    1    1\n",
            "46    2    1\n",
            "47    2    3\n",
            "48    2    3\n",
            "49    2    3\n",
            "2\n",
            "3\n"
          ],
          "name": "stdout"
        }
      ]
    },
    {
      "cell_type": "code",
      "metadata": {
        "id": "OQVZLeGAqSwd",
        "colab_type": "code",
        "outputId": "17dd0da7-df6a-4123-b9cd-8fee268b687f",
        "colab": {
          "base_uri": "https://localhost:8080/"
        }
      },
      "source": [
        "length_df.hist(bins = 30)\n",
        "plt.show()"
      ],
      "execution_count": 0,
      "outputs": [
        {
          "output_type": "display_data",
          "data": {
            "image/png": "[encoded data removed]",
            "text/plain": [
              "<Figure size 432x288 with 2 Axes>"
            ]
          },
          "metadata": {
            "tags": [],
            "needs_background": "light"
          }
        }
      ]
    },
    {
      "cell_type": "markdown",
      "metadata": {
        "id": "K_lJdSVDqSwf",
        "colab_type": "text"
      },
      "source": [
        "The maximum length of the German sentences is 11 and that of the English phrases is 8."
      ]
    },
    {
      "cell_type": "markdown",
      "metadata": {
        "id": "JJt0Vq8WqSwg",
        "colab_type": "text"
      },
      "source": [
        "Let's vectorize our text data by using Keras's Tokenizer() class. It will turn our sentences into sequences of integers. Then we will pad those sequences with zeros to make all the sequences of same length."
      ]
    },
    {
      "cell_type": "code",
      "metadata": {
        "id": "ZBJgwrr9qSwh",
        "colab_type": "code",
        "colab": {}
      },
      "source": [
        "# function to build a tokenizer\n",
        "def tokenization(lines):\n",
        "    tokenizer = Tokenizer()\n",
        "    tokenizer.fit_on_texts(lines)\n",
        "    return tokenizer"
      ],
      "execution_count": 0,
      "outputs": []
    },
    {
      "cell_type": "code",
      "metadata": {
        "id": "kVg3HQBVqSwk",
        "colab_type": "code",
        "outputId": "e1a1eb6d-5c2e-41a7-9039-c2d11551c4ea",
        "colab": {
          "base_uri": "https://localhost:8080/"
        }
      },
      "source": [
        "# prepare english tokenizer\n",
        "eng_tokenizer = tokenization(spa_eng[:, 0])\n",
        "eng_vocab_size = len(eng_tokenizer.word_index) + 1\n",
        "\n",
        "eng_length = 8\n",
        "print('English Vocabulary Size: %d' % eng_vocab_size)"
      ],
      "execution_count": 0,
      "outputs": [
        {
          "output_type": "stream",
          "text": [
            "English Vocabulary Size: 26\n"
          ],
          "name": "stdout"
        }
      ]
    },
    {
      "cell_type": "code",
      "metadata": {
        "id": "esFaCWsnqSwn",
        "colab_type": "code",
        "outputId": "d5777988-bf7b-4d38-96a7-8dd3ad6cbf68",
        "colab": {
          "base_uri": "https://localhost:8080/"
        }
      },
      "source": [
        "# prepare Spanish tokenizer\n",
        "spa_tokenizer = tokenization(spa_eng[:, 1])\n",
        "spa_vocab_size = len(spa_tokenizer.word_index) + 1\n",
        "\n",
        "spa_length = 8\n",
        "print('Spanish Vocabulary Size: %d' % spa_vocab_size)"
      ],
      "execution_count": 0,
      "outputs": [
        {
          "output_type": "stream",
          "text": [
            "Spanish Vocabulary Size: 54\n"
          ],
          "name": "stdout"
        }
      ]
    },
    {
      "cell_type": "code",
      "metadata": {
        "id": "QoQKcAq5qSwq",
        "colab_type": "code",
        "outputId": "68a1ba87-6f32-4e4d-a3c7-d178ae4468bc",
        "colab": {
          "base_uri": "https://localhost:8080/"
        }
      },
      "source": [
        "print(spa_tokenizer.word_counts)"
      ],
      "execution_count": 0,
      "outputs": [
        {
          "output_type": "stream",
          "text": [
            "OrderedDict([('ve', 2), ('vete', 1), ('vaya', 2), ('váyase', 1), ('hola', 2), ('¡corre', 1), ('¡corran', 1), ('¡corra', 1), ('¡corred', 1), ('corred', 1), ('¿quién', 1), ('¡órale', 1), ('¡fuego', 2), ('¡incendio', 1), ('¡disparad', 2), ('¡ayuda', 1), ('¡socorro', 1), ('¡auxilio', 2), ('¡salta', 1), ('salte', 1), ('¡parad', 1), ('¡para', 1), ('¡pare', 1), ('¡espera', 1), ('esperen', 1), ('continúa', 1), ('continúe', 1), ('corrí', 1), ('corría', 1), ('lo', 1), ('intento', 1), ('¡he', 1), ('ganado', 1), ('¡oh', 1), ('no', 1), ('tomátelo', 1), ('con', 1), ('soda', 1), ('¡disparen', 1), ('¡dispara', 1), ('¡dispará', 1), ('¡dispare', 1), ('sonríe', 1), ('¡al', 1), ('ataque', 1), ('¡atacad', 1), ('¡ataque', 1), ('¡ataquen', 1), ('¡ataca', 1), ('levanta', 1), ('ahora', 3), ('mismo', 3), ('id', 1)])\n"
          ],
          "name": "stdout"
        }
      ]
    },
    {
      "cell_type": "markdown",
      "metadata": {
        "id": "mzegeUu-qSws",
        "colab_type": "text"
      },
      "source": [
        "Given below is a function to prepare the sequences. It will also perform sequence padding to a maximum sentence length as mentioned above. "
      ]
    },
    {
      "cell_type": "code",
      "metadata": {
        "id": "Z1piTg_rqSwt",
        "colab_type": "code",
        "colab": {}
      },
      "source": [
        "# encode and pad sequences\n",
        "def encode_sequences(tokenizer, length, lines):\n",
        "    # integer encode sequences\n",
        "    seq = tokenizer.texts_to_sequences(lines)\n",
        "    # pad sequences with 0 values\n",
        "    seq = pad_sequences(seq, maxlen=length, padding='post')\n",
        "    print(seq)\n",
        "    print(len(seq))\n",
        "    return seq"
      ],
      "execution_count": 0,
      "outputs": []
    },
    {
      "cell_type": "code",
      "metadata": {
        "id": "MaULsvIpqSwv",
        "colab_type": "code",
        "colab": {}
      },
      "source": [
        ""
      ],
      "execution_count": 0,
      "outputs": []
    },
    {
      "cell_type": "markdown",
      "metadata": {
        "id": "U7-rHCJGqSwx",
        "colab_type": "text"
      },
      "source": [
        "### Model Building"
      ]
    },
    {
      "cell_type": "markdown",
      "metadata": {
        "id": "Jviun848qSwy",
        "colab_type": "text"
      },
      "source": [
        "We will now split the data into train and test set for model training and evaluation, respectively."
      ]
    },
    {
      "cell_type": "code",
      "metadata": {
        "id": "fQwd0ywpqSwy",
        "colab_type": "code",
        "colab": {}
      },
      "source": [
        "from sklearn.model_selection import train_test_split\n",
        "train, test = train_test_split(spa_eng, test_size=0.2, random_state = 12)"
      ],
      "execution_count": 0,
      "outputs": []
    },
    {
      "cell_type": "markdown",
      "metadata": {
        "id": "8J7A7bqZqSw2",
        "colab_type": "text"
      },
      "source": [
        "It's time to encode the sentences. We will encode Spanish sentences as the input sequences and English sentences as the target sequences. It will be done for both train and test datasets."
      ]
    },
    {
      "cell_type": "code",
      "metadata": {
        "id": "Kla65K9GqSw2",
        "colab_type": "code",
        "outputId": "092ae05a-c643-47a3-ce21-441c44c947b2",
        "colab": {
          "base_uri": "https://localhost:8080/",
          "height": 1000
        }
      },
      "source": [
        "# prepare training data\n",
        "trainX = encode_sequences(spa_tokenizer, spa_length, train[:, 1])\n",
        "trainY = encode_sequences(spa_tokenizer, spa_length, train[:, 0])"
      ],
      "execution_count": 0,
      "outputs": [
        {
          "output_type": "stream",
          "text": [
            "[[ 8  0  0  0  0  0  0  0]\n",
            " [43  0  0  0  0  0  0  0]\n",
            " [42  0  0  0  0  0  0  0]\n",
            " [19  0  0  0  0  0  0  0]\n",
            " [34 35  0  0  0  0  0  0]\n",
            " [ 7  0  0  0  0  0  0  0]\n",
            " [29  0  0  0  0  0  0  0]\n",
            " [15  0  0  0  0  0  0  0]\n",
            " [38 39 40  0  0  0  0  0]\n",
            " [ 3  1  2  0  0  0  0  0]\n",
            " [23  0  0  0  0  0  0  0]\n",
            " [20  8  0  0  0  0  0  0]\n",
            " [27  0  0  0  0  0  0  0]\n",
            " [48  0  0  0  0  0  0  0]\n",
            " [36 37  0  0  0  0  0  0]\n",
            " [ 7  0  0  0  0  0  0  0]\n",
            " [26  0  0  0  0  0  0  0]\n",
            " [ 9  0  0  0  0  0  0  0]\n",
            " [32 33  0  0  0  0  0  0]\n",
            " [ 5  0  0  0  0  0  0  0]\n",
            " [50  0  0  0  0  0  0  0]\n",
            " [44  0  0  0  0  0  0  0]\n",
            " [21  0  0  0  0  0  0  0]\n",
            " [45  0  0  0  0  0  0  0]\n",
            " [49  0  0  0  0  0  0  0]\n",
            " [ 3  0  0  0  0  0  0  0]\n",
            " [16  0  0  0  0  0  0  0]\n",
            " [ 4  1  2  0  0  0  0  0]\n",
            " [ 6  0  0  0  0  0  0  0]\n",
            " [28  0  0  0  0  0  0  0]\n",
            " [18  0  0  0  0  0  0  0]\n",
            " [11  0  0  0  0  0  0  0]\n",
            " [25  0  0  0  0  0  0  0]\n",
            " [ 6  0  0  0  0  0  0  0]\n",
            " [51  0  0  0  0  0  0  0]\n",
            " [10  0  0  0  0  0  0  0]\n",
            " [ 4  0  0  0  0  0  0  0]\n",
            " [12  0  0  0  0  0  0  0]\n",
            " [ 5  0  0  0  0  0  0  0]\n",
            " [17  0  0  0  0  0  0  0]]\n",
            "40\n",
            "[[ 0  0  0  0  0  0  0  0]\n",
            " [ 0  0  0  0  0  0  0  0]\n",
            " [ 0  0  0  0  0  0  0  0]\n",
            " [ 0  0  0  0  0  0  0  0]\n",
            " [ 0  0  0  0  0  0  0  0]\n",
            " [ 0  0  0  0  0  0  0  0]\n",
            " [ 0  0  0  0  0  0  0  0]\n",
            " [ 0  0  0  0  0  0  0  0]\n",
            " [ 0  0  0  0  0  0  0  0]\n",
            " [ 0  0  0  0  0  0  0  0]\n",
            " [ 0  0  0  0  0  0  0  0]\n",
            " [ 0  0  0  0  0  0  0  0]\n",
            " [ 0  0  0  0  0  0  0  0]\n",
            " [ 0  0  0  0  0  0  0  0]\n",
            " [37  0  0  0  0  0  0  0]\n",
            " [ 0  0  0  0  0  0  0  0]\n",
            " [ 0  0  0  0  0  0  0  0]\n",
            " [ 0  0  0  0  0  0  0  0]\n",
            " [ 0  0  0  0  0  0  0  0]\n",
            " [ 0  0  0  0  0  0  0  0]\n",
            " [ 0  0  0  0  0  0  0  0]\n",
            " [ 0  0  0  0  0  0  0  0]\n",
            " [ 0  0  0  0  0  0  0  0]\n",
            " [ 0  0  0  0  0  0  0  0]\n",
            " [ 0  0  0  0  0  0  0  0]\n",
            " [ 0  0  0  0  0  0  0  0]\n",
            " [ 0  0  0  0  0  0  0  0]\n",
            " [ 0  0  0  0  0  0  0  0]\n",
            " [ 0  0  0  0  0  0  0  0]\n",
            " [ 0  0  0  0  0  0  0  0]\n",
            " [ 0  0  0  0  0  0  0  0]\n",
            " [ 0  0  0  0  0  0  0  0]\n",
            " [ 0  0  0  0  0  0  0  0]\n",
            " [ 0  0  0  0  0  0  0  0]\n",
            " [ 0  0  0  0  0  0  0  0]\n",
            " [ 0  0  0  0  0  0  0  0]\n",
            " [ 0  0  0  0  0  0  0  0]\n",
            " [ 0  0  0  0  0  0  0  0]\n",
            " [ 0  0  0  0  0  0  0  0]\n",
            " [ 0  0  0  0  0  0  0  0]]\n",
            "40\n"
          ],
          "name": "stdout"
        }
      ]
    },
    {
      "cell_type": "code",
      "metadata": {
        "id": "g41ioc6LfxH5",
        "colab_type": "code",
        "outputId": "d6d09d3c-6f00-44bf-db4d-0a15409ec28c",
        "colab": {
          "base_uri": "https://localhost:8080/",
          "height": 118
        }
      },
      "source": [
        "train[:, 0]"
      ],
      "execution_count": 0,
      "outputs": [
        {
          "output_type": "execute_result",
          "data": {
            "text/plain": [
              "array(['help', 'shoot', 'shoot', 'help', 'i won', 'fire', 'go on', 'run',\n",
              "       'relax', 'go now', 'stop', 'help', 'wait', 'attack', 'oh no',\n",
              "       'shoot', 'wait', 'go', 'i try', 'hi', 'attack', 'shoot', 'jump',\n",
              "       'smile', 'attack', 'go', 'who', 'go now', 'shoot', 'go on', 'fire',\n",
              "       'run', 'stop', 'fire', 'attack', 'go', 'go', 'run', 'hello', 'wow'],\n",
              "      dtype='<U332')"
            ]
          },
          "metadata": {
            "tags": []
          },
          "execution_count": 26
        }
      ]
    },
    {
      "cell_type": "code",
      "metadata": {
        "id": "kSFtnLqCqSw4",
        "colab_type": "code",
        "outputId": "60ab8a99-4f37-4b43-f0c9-7ef06161992e",
        "colab": {
          "base_uri": "https://localhost:8080/",
          "height": 50
        }
      },
      "source": [
        "print(trainX.shape)\n",
        "print(trainY.shape)"
      ],
      "execution_count": 0,
      "outputs": [
        {
          "output_type": "stream",
          "text": [
            "(40, 8)\n",
            "(40, 8)\n"
          ],
          "name": "stdout"
        }
      ]
    },
    {
      "cell_type": "code",
      "metadata": {
        "id": "keNJpyqSqSw8",
        "colab_type": "code",
        "outputId": "98e1bd8d-af1f-4f7b-a64e-256c618fc479",
        "colab": {
          "base_uri": "https://localhost:8080/",
          "height": 386
        }
      },
      "source": [
        "# prepare validation data\n",
        "testX = encode_sequences(spa_tokenizer, spa_length, test[:, 1])\n",
        "testY = encode_sequences(eng_tokenizer, eng_length, test[:, 0])"
      ],
      "execution_count": 0,
      "outputs": [
        {
          "output_type": "stream",
          "text": [
            "[[30  0  0  0  0  0  0  0]\n",
            " [52  0  0  0  0  0  0  0]\n",
            " [13  0  0  0  0  0  0  0]\n",
            " [46 47  0  0  0  0  0  0]\n",
            " [41  0  0  0  0  0  0  0]\n",
            " [31  0  0  0  0  0  0  0]\n",
            " [24  0  0  0  0  0  0  0]\n",
            " [53  1  2  0  0  0  0  0]\n",
            " [22  0  0  0  0  0  0  0]\n",
            " [14  0  0  0  0  0  0  0]]\n",
            "10\n",
            "[[ 5 13  0  0  0  0  0  0]\n",
            " [24 25  0  0  0  0  0  0]\n",
            " [ 3  0  0  0  0  0  0  0]\n",
            " [ 4  0  0  0  0  0  0  0]\n",
            " [ 2  0  0  0  0  0  0  0]\n",
            " [ 5 13  0  0  0  0  0  0]\n",
            " [ 8  0  0  0  0  0  0  0]\n",
            " [ 1  9  0  0  0  0  0  0]\n",
            " [10  0  0  0  0  0  0  0]\n",
            " [ 3  0  0  0  0  0  0  0]]\n",
            "10\n"
          ],
          "name": "stdout"
        }
      ]
    },
    {
      "cell_type": "code",
      "metadata": {
        "id": "7nm_FOR2qSw_",
        "colab_type": "code",
        "outputId": "6f9b85ad-479f-4608-ee1c-88f1c7bb889f",
        "colab": {
          "base_uri": "https://localhost:8080/",
          "height": 50
        }
      },
      "source": [
        "print(testX.shape)\n",
        "print(testY.shape)"
      ],
      "execution_count": 0,
      "outputs": [
        {
          "output_type": "stream",
          "text": [
            "(10, 8)\n",
            "(10, 8)\n"
          ],
          "name": "stdout"
        }
      ]
    },
    {
      "cell_type": "markdown",
      "metadata": {
        "id": "hoOYBQz0qSxC",
        "colab_type": "text"
      },
      "source": [
        "Now comes the exciting part! Let us define our Seq2Seq model architecture. We are using an Embedding layer and an LSTM layer as our encoder and another LSTM layer followed by a Dense layer as the decoder.  "
      ]
    },
    {
      "cell_type": "code",
      "metadata": {
        "id": "dxrAswegqSxC",
        "colab_type": "code",
        "colab": {}
      },
      "source": [
        "# build NMT model\n",
        "def build_model(in_vocab, out_vocab, in_timesteps, out_timesteps, units):\n",
        "    model = Sequential()\n",
        "    model.add(Embedding(in_vocab, units, input_length=in_timesteps, mask_zero=True))\n",
        "    model.add(LSTM(units))\n",
        "    model.add(RepeatVector(out_timesteps))    \n",
        "    model.add(LSTM(units, return_sequences=True))\n",
        "    model.add(Dense(out_vocab, activation='softmax'))\n",
        "    return model"
      ],
      "execution_count": 0,
      "outputs": []
    },
    {
      "cell_type": "markdown",
      "metadata": {
        "id": "qNt5Jg4YqSxF",
        "colab_type": "text"
      },
      "source": [
        "Details about the RepeatVector :  https://campus.datacamp.com/courses/machine-translation-in-python/implementing-an-encoder-decoder-model-with-keras?ex=6"
      ]
    },
    {
      "cell_type": "markdown",
      "metadata": {
        "id": "4IhdTnCUqSxF",
        "colab_type": "text"
      },
      "source": [
        "We are using RMSprop optimizer in this model as it is usually a good choice for recurrent neural networks."
      ]
    },
    {
      "cell_type": "code",
      "metadata": {
        "id": "QC2JUc9UqSxG",
        "colab_type": "code",
        "outputId": "aaed9712-a7df-478d-d0fe-ce30f3c41812",
        "colab": {
          "base_uri": "https://localhost:8080/",
          "height": 84
        }
      },
      "source": [
        "print(spa_vocab_size)\n",
        "print(eng_vocab_size)\n",
        "print(spa_length)\n",
        "print(eng_length)"
      ],
      "execution_count": 0,
      "outputs": [
        {
          "output_type": "stream",
          "text": [
            "54\n",
            "26\n",
            "8\n",
            "8\n"
          ],
          "name": "stdout"
        }
      ]
    },
    {
      "cell_type": "code",
      "metadata": {
        "id": "UTy5ETwsqSxI",
        "colab_type": "code",
        "colab": {}
      },
      "source": [
        "model = build_model(spa_vocab_size, eng_vocab_size, spa_length, eng_length, 64)\n",
        "rms = optimizers.RMSprop(lr=0.1)\n",
        "model.compile(optimizer=rms, loss='sparse_categorical_crossentropy', metrics=['accuracy'])"
      ],
      "execution_count": 0,
      "outputs": []
    },
    {
      "cell_type": "markdown",
      "metadata": {
        "id": "FK5fqdXWqSxK",
        "colab_type": "text"
      },
      "source": [
        "Please note that we have used __'sparse_categorical_crossentropy'__ as the loss function because it allows us to use the target sequence as it is instead of one hot encoded format. One hot encoding the target sequences with such a huge vocabulary might consume our system's entire memory."
      ]
    },
    {
      "cell_type": "markdown",
      "metadata": {
        "id": "g0fCQo0gqSxL",
        "colab_type": "text"
      },
      "source": [
        "It seems we are all set to start training our model. We will train it for 30 epochs and with a batch size of 512. You may change and play these hyperparameters. We will also be using __ModelCheckpoint()__ to save the best model with lowest validation loss. I personally prefer this method over early stopping."
      ]
    },
    {
      "cell_type": "code",
      "metadata": {
        "id": "BXqS_RGozeiH",
        "colab_type": "code",
        "outputId": "e248e9f0-b7b8-4960-ec03-744529d70042",
        "colab": {
          "base_uri": "https://localhost:8080/",
          "height": 50
        }
      },
      "source": [
        "!ls"
      ],
      "execution_count": 0,
      "outputs": [
        {
          "output_type": "stream",
          "text": [
            "de_eng\t     LAB_TEXT_MachineTranslation_DE_EN.ipynb  README.md  spa-eng.zip\n",
            "deu-eng.zip  model.h1.24_jan_19\t\t\t      spa-eng\n"
          ],
          "name": "stdout"
        }
      ]
    },
    {
      "cell_type": "code",
      "metadata": {
        "scrolled": true,
        "id": "jWGTn32sqSxL",
        "colab_type": "code",
        "outputId": "17bc6800-b9f9-4c01-c0f1-cb57bb7ccf0d",
        "colab": {
          "base_uri": "https://localhost:8080/",
          "height": 1000
        }
      },
      "source": [
        "filename = 'model.h1.24_jan_19'\n",
        "checkpoint = ModelCheckpoint(filename, monitor='loss', verbose=1, save_best_only=True, mode='min')\n",
        "\n",
        "history = model.fit(trainX, trainY.reshape(trainY.shape[0], trainY.shape[1], 1), \n",
        "          epochs=30, batch_size=64, \n",
        "          validation_split = 0.1,\n",
        "          callbacks=[checkpoint], verbose=1)\n",
        "\n"
      ],
      "execution_count": 0,
      "outputs": [
        {
          "output_type": "stream",
          "text": [
            "/usr/local/lib/python3.6/dist-packages/tensorflow/python/framework/indexed_slices.py:434: UserWarning: Converting sparse IndexedSlices to a dense Tensor of unknown shape. This may consume a large amount of memory.\n",
            "  \"Converting sparse IndexedSlices to a dense Tensor of unknown shape. \"\n"
          ],
          "name": "stderr"
        },
        {
          "output_type": "stream",
          "text": [
            "Train on 36 samples, validate on 4 samples\n",
            "Epoch 1/30\n",
            "36/36 [==============================] - 1s 18ms/step - loss: nan - accuracy: 0.0660 - val_loss: 3.2581 - val_accuracy: 1.0000\n",
            "\n",
            "Epoch 00001: loss did not improve from inf\n",
            "Epoch 2/30\n",
            "36/36 [==============================] - 0s 1ms/step - loss: nan - accuracy: 0.9965 - val_loss: 3.2581 - val_accuracy: 1.0000\n",
            "\n",
            "Epoch 00002: loss did not improve from inf\n",
            "Epoch 3/30\n",
            "36/36 [==============================] - 0s 1ms/step - loss: nan - accuracy: 0.9965 - val_loss: 3.2581 - val_accuracy: 1.0000\n",
            "\n",
            "Epoch 00003: loss did not improve from inf\n",
            "Epoch 4/30\n",
            "36/36 [==============================] - 0s 1ms/step - loss: nan - accuracy: 0.9965 - val_loss: 3.2581 - val_accuracy: 1.0000\n",
            "\n",
            "Epoch 00004: loss did not improve from inf\n",
            "Epoch 5/30\n",
            "36/36 [==============================] - 0s 1ms/step - loss: nan - accuracy: 0.9965 - val_loss: 3.2581 - val_accuracy: 1.0000\n",
            "\n",
            "Epoch 00005: loss did not improve from inf\n",
            "Epoch 6/30\n",
            "36/36 [==============================] - 0s 1ms/step - loss: nan - accuracy: 0.9965 - val_loss: 3.2581 - val_accuracy: 1.0000\n",
            "\n",
            "Epoch 00006: loss did not improve from inf\n",
            "Epoch 7/30\n",
            "36/36 [==============================] - 0s 1ms/step - loss: nan - accuracy: 0.9965 - val_loss: 3.2581 - val_accuracy: 1.0000\n",
            "\n",
            "Epoch 00007: loss did not improve from inf\n",
            "Epoch 8/30\n",
            "36/36 [==============================] - 0s 1ms/step - loss: nan - accuracy: 0.9965 - val_loss: 3.2581 - val_accuracy: 1.0000\n",
            "\n",
            "Epoch 00008: loss did not improve from inf\n",
            "Epoch 9/30\n",
            "36/36 [==============================] - 0s 1ms/step - loss: nan - accuracy: 0.9965 - val_loss: 3.2581 - val_accuracy: 1.0000\n",
            "\n",
            "Epoch 00009: loss did not improve from inf\n",
            "Epoch 10/30\n",
            "36/36 [==============================] - 0s 1ms/step - loss: nan - accuracy: 0.9965 - val_loss: 3.2581 - val_accuracy: 1.0000\n",
            "\n",
            "Epoch 00010: loss did not improve from inf\n",
            "Epoch 11/30\n",
            "36/36 [==============================] - 0s 1ms/step - loss: nan - accuracy: 0.9965 - val_loss: 3.2581 - val_accuracy: 1.0000\n",
            "\n",
            "Epoch 00011: loss did not improve from inf\n",
            "Epoch 12/30\n",
            "36/36 [==============================] - 0s 1ms/step - loss: nan - accuracy: 0.9965 - val_loss: 3.2581 - val_accuracy: 1.0000\n",
            "\n",
            "Epoch 00012: loss did not improve from inf\n",
            "Epoch 13/30\n",
            "36/36 [==============================] - 0s 1ms/step - loss: nan - accuracy: 0.9965 - val_loss: 3.2581 - val_accuracy: 1.0000\n",
            "\n",
            "Epoch 00013: loss did not improve from inf\n",
            "Epoch 14/30\n",
            "36/36 [==============================] - 0s 1ms/step - loss: nan - accuracy: 0.9965 - val_loss: 3.2581 - val_accuracy: 1.0000\n",
            "\n",
            "Epoch 00014: loss did not improve from inf\n",
            "Epoch 15/30\n",
            "36/36 [==============================] - 0s 1ms/step - loss: nan - accuracy: 0.9965 - val_loss: 3.2581 - val_accuracy: 1.0000\n",
            "\n",
            "Epoch 00015: loss did not improve from inf\n",
            "Epoch 16/30\n",
            "36/36 [==============================] - 0s 1ms/step - loss: nan - accuracy: 0.9965 - val_loss: 3.2581 - val_accuracy: 1.0000\n",
            "\n",
            "Epoch 00016: loss did not improve from inf\n",
            "Epoch 17/30\n",
            "36/36 [==============================] - 0s 1ms/step - loss: nan - accuracy: 0.9965 - val_loss: 3.2581 - val_accuracy: 1.0000\n",
            "\n",
            "Epoch 00017: loss did not improve from inf\n",
            "Epoch 18/30\n",
            "36/36 [==============================] - 0s 1ms/step - loss: nan - accuracy: 0.9965 - val_loss: 3.2581 - val_accuracy: 1.0000\n",
            "\n",
            "Epoch 00018: loss did not improve from inf\n",
            "Epoch 19/30\n",
            "36/36 [==============================] - 0s 1ms/step - loss: nan - accuracy: 0.9965 - val_loss: 3.2581 - val_accuracy: 1.0000\n",
            "\n",
            "Epoch 00019: loss did not improve from inf\n",
            "Epoch 20/30\n",
            "36/36 [==============================] - 0s 1ms/step - loss: nan - accuracy: 0.9965 - val_loss: 3.2581 - val_accuracy: 1.0000\n",
            "\n",
            "Epoch 00020: loss did not improve from inf\n",
            "Epoch 21/30\n",
            "36/36 [==============================] - 0s 2ms/step - loss: nan - accuracy: 0.9965 - val_loss: 3.2581 - val_accuracy: 1.0000\n",
            "\n",
            "Epoch 00021: loss did not improve from inf\n",
            "Epoch 22/30\n",
            "36/36 [==============================] - 0s 1ms/step - loss: nan - accuracy: 0.9965 - val_loss: 3.2581 - val_accuracy: 1.0000\n",
            "\n",
            "Epoch 00022: loss did not improve from inf\n",
            "Epoch 23/30\n",
            "36/36 [==============================] - 0s 1ms/step - loss: nan - accuracy: 0.9965 - val_loss: 3.2581 - val_accuracy: 1.0000\n",
            "\n",
            "Epoch 00023: loss did not improve from inf\n",
            "Epoch 24/30\n",
            "36/36 [==============================] - 0s 1ms/step - loss: nan - accuracy: 0.9965 - val_loss: 3.2581 - val_accuracy: 1.0000\n",
            "\n",
            "Epoch 00024: loss did not improve from inf\n",
            "Epoch 25/30\n",
            "36/36 [==============================] - 0s 1ms/step - loss: nan - accuracy: 0.9965 - val_loss: 3.2581 - val_accuracy: 1.0000\n",
            "\n",
            "Epoch 00025: loss did not improve from inf\n",
            "Epoch 26/30\n",
            "36/36 [==============================] - 0s 1ms/step - loss: nan - accuracy: 0.9965 - val_loss: 3.2581 - val_accuracy: 1.0000\n",
            "\n",
            "Epoch 00026: loss did not improve from inf\n",
            "Epoch 27/30\n",
            "36/36 [==============================] - 0s 1ms/step - loss: nan - accuracy: 0.9965 - val_loss: 3.2581 - val_accuracy: 1.0000\n",
            "\n",
            "Epoch 00027: loss did not improve from inf\n",
            "Epoch 28/30\n",
            "36/36 [==============================] - 0s 1ms/step - loss: nan - accuracy: 0.9965 - val_loss: 3.2581 - val_accuracy: 1.0000\n",
            "\n",
            "Epoch 00028: loss did not improve from inf\n",
            "Epoch 29/30\n",
            "36/36 [==============================] - 0s 1ms/step - loss: nan - accuracy: 0.9965 - val_loss: 3.2581 - val_accuracy: 1.0000\n",
            "\n",
            "Epoch 00029: loss did not improve from inf\n",
            "Epoch 30/30\n",
            "36/36 [==============================] - 0s 1ms/step - loss: nan - accuracy: 0.9965 - val_loss: 3.2581 - val_accuracy: 1.0000\n",
            "\n",
            "Epoch 00030: loss did not improve from inf\n"
          ],
          "name": "stdout"
        }
      ]
    },
    {
      "cell_type": "markdown",
      "metadata": {
        "id": "1vK99OnMqSxN",
        "colab_type": "text"
      },
      "source": [
        "Let's compare the training loss and the validation loss."
      ]
    },
    {
      "cell_type": "code",
      "metadata": {
        "id": "nOJyVqi_qSxO",
        "colab_type": "code",
        "outputId": "dd6a45e6-17e6-4177-8d0d-deec7653023d",
        "colab": {
          "base_uri": "https://localhost:8080/",
          "height": 265
        }
      },
      "source": [
        "plt.plot(history.history['loss'])\n",
        "plt.plot(history.history['val_loss'])\n",
        "plt.legend(['train','validation'])\n",
        "plt.show()"
      ],
      "execution_count": 0,
      "outputs": [
        {
          "output_type": "display_data",
          "data": {
            "image/png": "[encoded data removed]",
            "text/plain": [
              "<Figure size 432x288 with 1 Axes>"
            ]
          },
          "metadata": {
            "tags": [],
            "needs_background": "light"
          }
        }
      ]
    },
    {
      "cell_type": "markdown",
      "metadata": {
        "id": "70U3WRK4qSxQ",
        "colab_type": "text"
      },
      "source": [
        "### Make Predictions"
      ]
    },
    {
      "cell_type": "markdown",
      "metadata": {
        "id": "8hI97t9FqSxR",
        "colab_type": "text"
      },
      "source": [
        "Let's load the saved model to make predictions."
      ]
    },
    {
      "cell_type": "code",
      "metadata": {
        "id": "JqyEnceNqSxS",
        "colab_type": "code",
        "outputId": "ad78011c-5003-41a4-b794-e406c4bdd6c2",
        "colab": {
          "base_uri": "https://localhost:8080/",
          "height": 70
        }
      },
      "source": [
        "model = load_model('model.h1.24_jan_19')\n",
        "preds = model.predict_classes(testX.reshape((testX.shape[0],testX.shape[1])))"
      ],
      "execution_count": 0,
      "outputs": [
        {
          "output_type": "stream",
          "text": [
            "/usr/local/lib/python3.6/dist-packages/tensorflow/python/framework/indexed_slices.py:434: UserWarning: Converting sparse IndexedSlices to a dense Tensor of unknown shape. This may consume a large amount of memory.\n",
            "  \"Converting sparse IndexedSlices to a dense Tensor of unknown shape. \"\n"
          ],
          "name": "stderr"
        }
      ]
    },
    {
      "cell_type": "code",
      "metadata": {
        "id": "YFx8LT5oqSxU",
        "colab_type": "code",
        "colab": {}
      },
      "source": [
        "def get_word(n, tokenizer):\n",
        "    for word, index in tokenizer.word_index.items():\n",
        "        if index == n:\n",
        "            return word\n",
        "    return None"
      ],
      "execution_count": 0,
      "outputs": []
    },
    {
      "cell_type": "code",
      "metadata": {
        "id": "0Q-rdOInqSxe",
        "colab_type": "code",
        "colab": {}
      },
      "source": [
        "# convert predictions into text (English)\n",
        "preds_text = []\n",
        "for i in preds:\n",
        "    temp = []\n",
        "    for j in range(len(i)):\n",
        "        t = get_word(i[j], eng_tokenizer)\n",
        "        if j > 0:\n",
        "            if (t == get_word(i[j-1], eng_tokenizer)) or (t == None):\n",
        "                temp.append('')\n",
        "            else:\n",
        "                temp.append(t)\n",
        "             \n",
        "        else:\n",
        "            if(t == None):\n",
        "                temp.append('')\n",
        "            else:\n",
        "                temp.append(t)            \n",
        "        \n",
        "    preds_text.append(' '.join(temp))"
      ],
      "execution_count": 0,
      "outputs": []
    },
    {
      "cell_type": "code",
      "metadata": {
        "id": "318fP5gOqSxh",
        "colab_type": "code",
        "colab": {}
      },
      "source": [
        "pred_df = pd.DataFrame({'actual' : test[:,0], 'predicted' : preds_text})"
      ],
      "execution_count": 0,
      "outputs": []
    },
    {
      "cell_type": "code",
      "metadata": {
        "id": "OAO6jGlgqSxl",
        "colab_type": "code",
        "colab": {}
      },
      "source": [
        "pd.set_option('display.max_colwidth', 200)"
      ],
      "execution_count": 0,
      "outputs": []
    },
    {
      "cell_type": "code",
      "metadata": {
        "id": "VB61oVXdqSxo",
        "colab_type": "code",
        "outputId": "e7b30547-9a23-4be4-fcbb-28051f1e91b8",
        "colab": {
          "base_uri": "https://localhost:8080/",
          "height": 343
        }
      },
      "source": [
        "pred_df.head(15)"
      ],
      "execution_count": 0,
      "outputs": [
        {
          "output_type": "execute_result",
          "data": {
            "text/html": [
              "<div>\n",
              "<style scoped>\n",
              "    .dataframe tbody tr th:only-of-type {\n",
              "        vertical-align: middle;\n",
              "    }\n",
              "\n",
              "    .dataframe tbody tr th {\n",
              "        vertical-align: top;\n",
              "    }\n",
              "\n",
              "    .dataframe thead th {\n",
              "        text-align: right;\n",
              "    }\n",
              "</style>\n",
              "<table border=\"1\" class=\"dataframe\">\n",
              "  <thead>\n",
              "    <tr style=\"text-align: right;\">\n",
              "      <th></th>\n",
              "      <th>actual</th>\n",
              "      <th>predicted</th>\n",
              "    </tr>\n",
              "  </thead>\n",
              "  <tbody>\n",
              "    <tr>\n",
              "      <th>0</th>\n",
              "      <td>i ran</td>\n",
              "      <td></td>\n",
              "    </tr>\n",
              "    <tr>\n",
              "      <th>1</th>\n",
              "      <td>get up</td>\n",
              "      <td></td>\n",
              "    </tr>\n",
              "    <tr>\n",
              "      <th>2</th>\n",
              "      <td>run</td>\n",
              "      <td></td>\n",
              "    </tr>\n",
              "    <tr>\n",
              "      <th>3</th>\n",
              "      <td>attack</td>\n",
              "      <td></td>\n",
              "    </tr>\n",
              "    <tr>\n",
              "      <th>4</th>\n",
              "      <td>shoot</td>\n",
              "      <td></td>\n",
              "    </tr>\n",
              "    <tr>\n",
              "      <th>5</th>\n",
              "      <td>i ran</td>\n",
              "      <td></td>\n",
              "    </tr>\n",
              "    <tr>\n",
              "      <th>6</th>\n",
              "      <td>stop</td>\n",
              "      <td></td>\n",
              "    </tr>\n",
              "    <tr>\n",
              "      <th>7</th>\n",
              "      <td>go now</td>\n",
              "      <td></td>\n",
              "    </tr>\n",
              "    <tr>\n",
              "      <th>8</th>\n",
              "      <td>jump</td>\n",
              "      <td></td>\n",
              "    </tr>\n",
              "    <tr>\n",
              "      <th>9</th>\n",
              "      <td>run</td>\n",
              "      <td></td>\n",
              "    </tr>\n",
              "  </tbody>\n",
              "</table>\n",
              "</div>"
            ],
            "text/plain": [
              "   actual predicted\n",
              "0   i ran          \n",
              "1  get up          \n",
              "2     run          \n",
              "3  attack          \n",
              "4   shoot          \n",
              "5   i ran          \n",
              "6    stop          \n",
              "7  go now          \n",
              "8    jump          \n",
              "9     run          "
            ]
          },
          "metadata": {
            "tags": []
          },
          "execution_count": 41
        }
      ]
    },
    {
      "cell_type": "code",
      "metadata": {
        "id": "ilRn-KKaqSxr",
        "colab_type": "code",
        "outputId": "f925023b-b5a5-4177-c5b2-851e010a049f",
        "colab": {
          "base_uri": "https://localhost:8080/",
          "height": 343
        }
      },
      "source": [
        "pred_df.tail(15)"
      ],
      "execution_count": 0,
      "outputs": [
        {
          "output_type": "execute_result",
          "data": {
            "text/html": [
              "<div>\n",
              "<style scoped>\n",
              "    .dataframe tbody tr th:only-of-type {\n",
              "        vertical-align: middle;\n",
              "    }\n",
              "\n",
              "    .dataframe tbody tr th {\n",
              "        vertical-align: top;\n",
              "    }\n",
              "\n",
              "    .dataframe thead th {\n",
              "        text-align: right;\n",
              "    }\n",
              "</style>\n",
              "<table border=\"1\" class=\"dataframe\">\n",
              "  <thead>\n",
              "    <tr style=\"text-align: right;\">\n",
              "      <th></th>\n",
              "      <th>actual</th>\n",
              "      <th>predicted</th>\n",
              "    </tr>\n",
              "  </thead>\n",
              "  <tbody>\n",
              "    <tr>\n",
              "      <th>0</th>\n",
              "      <td>i ran</td>\n",
              "      <td></td>\n",
              "    </tr>\n",
              "    <tr>\n",
              "      <th>1</th>\n",
              "      <td>get up</td>\n",
              "      <td></td>\n",
              "    </tr>\n",
              "    <tr>\n",
              "      <th>2</th>\n",
              "      <td>run</td>\n",
              "      <td></td>\n",
              "    </tr>\n",
              "    <tr>\n",
              "      <th>3</th>\n",
              "      <td>attack</td>\n",
              "      <td></td>\n",
              "    </tr>\n",
              "    <tr>\n",
              "      <th>4</th>\n",
              "      <td>shoot</td>\n",
              "      <td></td>\n",
              "    </tr>\n",
              "    <tr>\n",
              "      <th>5</th>\n",
              "      <td>i ran</td>\n",
              "      <td></td>\n",
              "    </tr>\n",
              "    <tr>\n",
              "      <th>6</th>\n",
              "      <td>stop</td>\n",
              "      <td></td>\n",
              "    </tr>\n",
              "    <tr>\n",
              "      <th>7</th>\n",
              "      <td>go now</td>\n",
              "      <td></td>\n",
              "    </tr>\n",
              "    <tr>\n",
              "      <th>8</th>\n",
              "      <td>jump</td>\n",
              "      <td></td>\n",
              "    </tr>\n",
              "    <tr>\n",
              "      <th>9</th>\n",
              "      <td>run</td>\n",
              "      <td></td>\n",
              "    </tr>\n",
              "  </tbody>\n",
              "</table>\n",
              "</div>"
            ],
            "text/plain": [
              "   actual predicted\n",
              "0   i ran          \n",
              "1  get up          \n",
              "2     run          \n",
              "3  attack          \n",
              "4   shoot          \n",
              "5   i ran          \n",
              "6    stop          \n",
              "7  go now          \n",
              "8    jump          \n",
              "9     run          "
            ]
          },
          "metadata": {
            "tags": []
          },
          "execution_count": 42
        }
      ]
    },
    {
      "cell_type": "code",
      "metadata": {
        "id": "HPRhmuwDqSxt",
        "colab_type": "code",
        "outputId": "2151b7bc-a5d8-4d2e-ad72-d27a5d3eade2",
        "colab": {
          "base_uri": "https://localhost:8080/",
          "height": 343
        }
      },
      "source": [
        "pred_df.tail(15)"
      ],
      "execution_count": 0,
      "outputs": [
        {
          "output_type": "execute_result",
          "data": {
            "text/html": [
              "<div>\n",
              "<style scoped>\n",
              "    .dataframe tbody tr th:only-of-type {\n",
              "        vertical-align: middle;\n",
              "    }\n",
              "\n",
              "    .dataframe tbody tr th {\n",
              "        vertical-align: top;\n",
              "    }\n",
              "\n",
              "    .dataframe thead th {\n",
              "        text-align: right;\n",
              "    }\n",
              "</style>\n",
              "<table border=\"1\" class=\"dataframe\">\n",
              "  <thead>\n",
              "    <tr style=\"text-align: right;\">\n",
              "      <th></th>\n",
              "      <th>actual</th>\n",
              "      <th>predicted</th>\n",
              "    </tr>\n",
              "  </thead>\n",
              "  <tbody>\n",
              "    <tr>\n",
              "      <th>0</th>\n",
              "      <td>i ran</td>\n",
              "      <td></td>\n",
              "    </tr>\n",
              "    <tr>\n",
              "      <th>1</th>\n",
              "      <td>get up</td>\n",
              "      <td></td>\n",
              "    </tr>\n",
              "    <tr>\n",
              "      <th>2</th>\n",
              "      <td>run</td>\n",
              "      <td></td>\n",
              "    </tr>\n",
              "    <tr>\n",
              "      <th>3</th>\n",
              "      <td>attack</td>\n",
              "      <td></td>\n",
              "    </tr>\n",
              "    <tr>\n",
              "      <th>4</th>\n",
              "      <td>shoot</td>\n",
              "      <td></td>\n",
              "    </tr>\n",
              "    <tr>\n",
              "      <th>5</th>\n",
              "      <td>i ran</td>\n",
              "      <td></td>\n",
              "    </tr>\n",
              "    <tr>\n",
              "      <th>6</th>\n",
              "      <td>stop</td>\n",
              "      <td></td>\n",
              "    </tr>\n",
              "    <tr>\n",
              "      <th>7</th>\n",
              "      <td>go now</td>\n",
              "      <td></td>\n",
              "    </tr>\n",
              "    <tr>\n",
              "      <th>8</th>\n",
              "      <td>jump</td>\n",
              "      <td></td>\n",
              "    </tr>\n",
              "    <tr>\n",
              "      <th>9</th>\n",
              "      <td>run</td>\n",
              "      <td></td>\n",
              "    </tr>\n",
              "  </tbody>\n",
              "</table>\n",
              "</div>"
            ],
            "text/plain": [
              "   actual predicted\n",
              "0   i ran          \n",
              "1  get up          \n",
              "2     run          \n",
              "3  attack          \n",
              "4   shoot          \n",
              "5   i ran          \n",
              "6    stop          \n",
              "7  go now          \n",
              "8    jump          \n",
              "9     run          "
            ]
          },
          "metadata": {
            "tags": []
          },
          "execution_count": 43
        }
      ]
    },
    {
      "cell_type": "code",
      "metadata": {
        "id": "eUiq-dHGqSxw",
        "colab_type": "code",
        "outputId": "26dad35d-c509-41c7-858b-6b6ec036e80e",
        "colab": {
          "base_uri": "https://localhost:8080/",
          "height": 313
        }
      },
      "source": [
        "pred_df.sample(15)"
      ],
      "execution_count": 0,
      "outputs": [
        {
          "output_type": "error",
          "ename": "ValueError",
          "evalue": "ignored",
          "traceback": [
            "\u001b[0;31m---------------------------------------------------------------------------\u001b[0m",
            "\u001b[0;31mValueError\u001b[0m                                Traceback (most recent call last)",
            "\u001b[0;32m<ipython-input-44-0cc3d4feb4f0>\u001b[0m in \u001b[0;36m<module>\u001b[0;34m()\u001b[0m\n\u001b[0;32m----> 1\u001b[0;31m \u001b[0mpred_df\u001b[0m\u001b[0;34m.\u001b[0m\u001b[0msample\u001b[0m\u001b[0;34m(\u001b[0m\u001b[0;36m15\u001b[0m\u001b[0;34m)\u001b[0m\u001b[0;34m\u001b[0m\u001b[0;34m\u001b[0m\u001b[0m\n\u001b[0m",
            "\u001b[0;32m/usr/local/lib/python3.6/dist-packages/pandas/core/generic.py\u001b[0m in \u001b[0;36msample\u001b[0;34m(self, n, frac, replace, weights, random_state, axis)\u001b[0m\n\u001b[1;32m   5059\u001b[0m             )\n\u001b[1;32m   5060\u001b[0m \u001b[0;34m\u001b[0m\u001b[0m\n\u001b[0;32m-> 5061\u001b[0;31m         \u001b[0mlocs\u001b[0m \u001b[0;34m=\u001b[0m \u001b[0mrs\u001b[0m\u001b[0;34m.\u001b[0m\u001b[0mchoice\u001b[0m\u001b[0;34m(\u001b[0m\u001b[0maxis_length\u001b[0m\u001b[0;34m,\u001b[0m \u001b[0msize\u001b[0m\u001b[0;34m=\u001b[0m\u001b[0mn\u001b[0m\u001b[0;34m,\u001b[0m \u001b[0mreplace\u001b[0m\u001b[0;34m=\u001b[0m\u001b[0mreplace\u001b[0m\u001b[0;34m,\u001b[0m \u001b[0mp\u001b[0m\u001b[0;34m=\u001b[0m\u001b[0mweights\u001b[0m\u001b[0;34m)\u001b[0m\u001b[0;34m\u001b[0m\u001b[0;34m\u001b[0m\u001b[0m\n\u001b[0m\u001b[1;32m   5062\u001b[0m         \u001b[0;32mreturn\u001b[0m \u001b[0mself\u001b[0m\u001b[0;34m.\u001b[0m\u001b[0mtake\u001b[0m\u001b[0;34m(\u001b[0m\u001b[0mlocs\u001b[0m\u001b[0;34m,\u001b[0m \u001b[0maxis\u001b[0m\u001b[0;34m=\u001b[0m\u001b[0maxis\u001b[0m\u001b[0;34m)\u001b[0m\u001b[0;34m\u001b[0m\u001b[0;34m\u001b[0m\u001b[0m\n\u001b[1;32m   5063\u001b[0m \u001b[0;34m\u001b[0m\u001b[0m\n",
            "\u001b[0;32mmtrand.pyx\u001b[0m in \u001b[0;36mnumpy.random.mtrand.RandomState.choice\u001b[0;34m()\u001b[0m\n",
            "\u001b[0;31mValueError\u001b[0m: Cannot take a larger sample than population when 'replace=False'"
          ]
        }
      ]
    },
    {
      "cell_type": "code",
      "metadata": {
        "id": "P1GnFqivqSx0",
        "colab_type": "code",
        "colab": {}
      },
      "source": [
        ""
      ],
      "execution_count": 0,
      "outputs": []
    }
  ]
}