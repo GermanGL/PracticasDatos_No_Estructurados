{
  "nbformat": 4,
  "nbformat_minor": 0,
  "metadata": {
    "_change_revision": 1,
    "_is_fork": false,
    "kernelspec": {
      "display_name": "Python 3",
      "language": "python",
      "name": "python3"
    },
    "language_info": {
      "codemirror_mode": {
        "name": "ipython",
        "version": 3
      },
      "file_extension": ".py",
      "mimetype": "text/x-python",
      "name": "python",
      "nbconvert_exporter": "python",
      "pygments_lexer": "ipython3",
      "version": "3.7.4"
    },
    "colab": {
      "name": "4b_TEXT_word2vec-songs-recommendation.ipynb",
      "provenance": []
    }
  },
  "cells": [
    {
      "cell_type": "markdown",
      "metadata": {
        "_cell_guid": "75232424-a1c0-4a39-fe3b-4efad3707541",
        "id": "918NcvM_sM8U",
        "colab_type": "text"
      },
      "source": [
        ""
      ]
    },
    {
      "cell_type": "code",
      "metadata": {
        "_cell_guid": "5639af0e-aa64-74bd-de5c-b6f5c50b041f",
        "scrolled": true,
        "id": "flidHJ8TsM8V",
        "colab_type": "code",
        "colab": {}
      },
      "source": [
        "import pandas as pd\n",
        "import numpy as np\n",
        "import gensim.models.word2vec as w2v\n",
        "import multiprocessing\n",
        "import os\n",
        "import re\n",
        "import pprint\n",
        "import sklearn.manifold\n",
        "import matplotlib.pyplot as plt"
      ],
      "execution_count": 0,
      "outputs": []
    },
    {
      "cell_type": "code",
      "metadata": {
        "id": "IMT_mbfDB1XE",
        "colab_type": "code",
        "outputId": "7b68d662-9eba-42c0-ffac-4c76ca992d33",
        "colab": {
          "base_uri": "https://localhost:8080/",
          "height": 121
        }
      },
      "source": [
        "from google.colab import drive\n",
        "drive.mount('/content/drive')"
      ],
      "execution_count": 3,
      "outputs": [
        {
          "output_type": "stream",
          "text": [
            "Go to this URL in a browser: https://accounts.google.com/o/oauth2/auth?client_id=947318989803-6bn6qk8qdgf4n4g3pfee6491hc0brc4i.apps.googleusercontent.com&redirect_uri=urn%3aietf%3awg%3aoauth%3a2.0%3aoob&response_type=code&scope=email%20https%3a%2f%2fwww.googleapis.com%2fauth%2fdocs.test%20https%3a%2f%2fwww.googleapis.com%2fauth%2fdrive%20https%3a%2f%2fwww.googleapis.com%2fauth%2fdrive.photos.readonly%20https%3a%2f%2fwww.googleapis.com%2fauth%2fpeopleapi.readonly\n",
            "\n",
            "Enter your authorization code:\n",
            "··········\n",
            "Mounted at /content/drive\n"
          ],
          "name": "stdout"
        }
      ]
    },
    {
      "cell_type": "code",
      "metadata": {
        "id": "5DqvuGurH5Dt",
        "colab_type": "code",
        "outputId": "150cd901-0ad3-4891-886e-d15d474cbb61",
        "colab": {
          "base_uri": "https://localhost:8080/",
          "height": 34
        }
      },
      "source": [
        "%cd drive/'My Drive'/TEXT/data"
      ],
      "execution_count": 4,
      "outputs": [
        {
          "output_type": "stream",
          "text": [
            "/content/drive/My Drive/TEXT/data\n"
          ],
          "name": "stdout"
        }
      ]
    },
    {
      "cell_type": "code",
      "metadata": {
        "id": "qLqw3e7PFZoV",
        "colab_type": "code",
        "outputId": "ee719d65-502c-4574-9b96-363bed0427bc",
        "colab": {
          "base_uri": "https://localhost:8080/",
          "height": 84
        }
      },
      "source": [
        "!ls"
      ],
      "execution_count": 5,
      "outputs": [
        {
          "output_type": "stream",
          "text": [
            " Clinton_Hillary.csv\t    hhgroups_merge_28_05.csv.zip   songlyrics\n",
            " Corpus.docx\t\t   'IMDB Dataset.csv'\t\t   songlyrics.zip\n",
            " Fiorina_Carly.csv\t    lexicon.csv\t\t\t   songsdata_sample.csv\n",
            " hhgroups_merge_28_05.csv   pg2000.txt\t\t\t   trained\n"
          ],
          "name": "stdout"
        }
      ]
    },
    {
      "cell_type": "code",
      "metadata": {
        "id": "1taZdFmpEjzQ",
        "colab_type": "code",
        "outputId": "0dd49741-251a-4540-e869-d61ac0c8d29e",
        "colab": {
          "base_uri": "https://localhost:8080/",
          "height": 101
        }
      },
      "source": [
        "myfile = \"pg2000.txt\"  # Mac users should leave out C:\n",
        "wtxt = open(myfile).read()\n",
        "#print(wtxt)\n",
        "len(wtxt)     # Number of characters in text\n",
        "\n",
        "\n",
        "# Turn off/on pretty printing (prints too many lines)\n",
        "%pprint    \n",
        "# Tokenize text\n",
        "import nltk\n",
        "nltk.download('punkt')\n",
        "nltk.download('stopwords')\n",
        "\n",
        "\n",
        "\n",
        "# nltk.word_tokenize(wtxt)\n",
        "# wtokens = nltk.word_tokenize(wtxt)\n",
        "# len(wtokens) \n",
        "\n",
        "\n",
        "processed_book = wtxt.lower()\n",
        "processed_book = re.sub('[^0-9a-zA-Z]+', ' ', processed_book )\n",
        "processed_book = re.sub(r'\\s+', ' ', processed_book)\n",
        "\n",
        "# Preparing the dataset\n",
        "all_sentences = nltk.sent_tokenize(processed_book)\n",
        "\n",
        "all_words = [nltk.word_tokenize(sent) for sent in all_sentences]\n",
        "\n",
        "# Removing Stop Words\n",
        "from nltk.corpus import stopwords\n",
        "for i in range(len(all_words)):\n",
        "    all_words[i] = [w for w in all_words[i] if w not in stopwords.words('spanish')]"
      ],
      "execution_count": 6,
      "outputs": [
        {
          "output_type": "stream",
          "text": [
            "Pretty printing has been turned OFF\n",
            "[nltk_data] Downloading package punkt to /root/nltk_data...\n",
            "[nltk_data]   Unzipping tokenizers/punkt.zip.\n",
            "[nltk_data] Downloading package stopwords to /root/nltk_data...\n",
            "[nltk_data]   Unzipping corpora/stopwords.zip.\n"
          ],
          "name": "stdout"
        }
      ]
    },
    {
      "cell_type": "code",
      "metadata": {
        "id": "r_UaZTHvGM2P",
        "colab_type": "code",
        "colab": {}
      },
      "source": [
        "from gensim.models import Word2Vec\n",
        "\n",
        "word2vec = Word2Vec(all_words, min_count=2)"
      ],
      "execution_count": 0,
      "outputs": []
    },
    {
      "cell_type": "code",
      "metadata": {
        "id": "qi3fpSC3wYJ6",
        "colab_type": "code",
        "outputId": "1ed43d04-6ba7-4d6f-9e2f-8e98962547ec",
        "colab": {
          "base_uri": "https://localhost:8080/",
          "height": 54
        }
      },
      "source": [
        "vocabulary = word2vec.wv.vocab\n"
      ],
      "execution_count": 8,
      "outputs": [
        {
          "output_type": "stream",
          "text": [
          ],
          "name": "stdout"
        }
      ]
    },
    {
      "cell_type": "code",
      "metadata": {
        "id": "MpgoCheVyKSX",
        "colab_type": "code",
        "outputId": "f8766c24-a2d8-4b89-9827-48235ccc5720",
        "colab": {
          "base_uri": "https://localhost:8080/",
          "height": 87
        }
      },
      "source": [
        "word2vec.wv.most_similar('viuda')\n"
      ],
      "execution_count": 9,
      "outputs": [
        {
          "output_type": "stream",
          "text": [
            "/usr/local/lib/python3.6/dist-packages/gensim/matutils.py:737: FutureWarning: Conversion of the second argument of issubdtype from `int` to `np.signedinteger` is deprecated. In future, it will be treated as `np.int64 == np.dtype(int).type`.\n",
            "  if np.issubdtype(vec.dtype, np.int):\n"
          ],
          "name": "stderr"
        },
        {
          "output_type": "execute_result",
          "data": {
            "text/plain": [
              "[('queden', 0.36968088150024414), ('bobo', 0.34873706102371216), ('dormimos', 0.3459188640117645), ('sico', 0.34447580575942993), ('caus', 0.33843836188316345), ('alema', 0.3188418745994568), ('enderezar', 0.31835541129112244), ('peje', 0.31744182109832764), ('volverlos', 0.3142811059951782), ('elogio', 0.30555322766304016)]"
            ]
          },
          "metadata": {
            "tags": []
          },
          "execution_count": 9
        }
      ]
    },
    {
      "cell_type": "markdown",
      "metadata": {
        "id": "aYVCqMIdsM8h",
        "colab_type": "text"
      },
      "source": [
        "#### Let's explore our model"
      ]
    },
    {
      "cell_type": "markdown",
      "metadata": {
        "id": "o6zeibuesM8h",
        "colab_type": "text"
      },
      "source": [
        "Find similar words"
      ]
    },
    {
      "cell_type": "code",
      "metadata": {
        "id": "Syo_JMRdsM8h",
        "colab_type": "code",
        "outputId": "02113d01-9a06-46d1-8c0c-7c0d008b2996",
        "colab": {
          "base_uri": "https://localhost:8080/",
          "height": 87
        }
      },
      "source": [
        "word2vec.wv.most_similar('espada')"
      ],
      "execution_count": 43,
      "outputs": [
        {
          "output_type": "stream",
          "text": [
            "/usr/local/lib/python3.6/dist-packages/gensim/matutils.py:737: FutureWarning: Conversion of the second argument of issubdtype from `int` to `np.signedinteger` is deprecated. In future, it will be treated as `np.int64 == np.dtype(int).type`.\n",
            "  if np.issubdtype(vec.dtype, np.int):\n"
          ],
          "name": "stderr"
        },
        {
          "output_type": "execute_result",
          "data": {
            "text/plain": [
              "[('mudarse', 0.3602236211299896), ('consideres', 0.35939309000968933), ('cuatralbo', 0.343730628490448), ('romance', 0.3375695049762726), ('inter', 0.33138248324394226), ('pluma', 0.32211846113204956), ('encantada', 0.32173317670822144), ('desembarcar', 0.3209344446659088), ('anduviesen', 0.3197678327560425), ('carreras', 0.31916412711143494)]"
            ]
          },
          "metadata": {
            "tags": []
          },
          "execution_count": 43
        }
      ]
    },
    {
      "cell_type": "code",
      "metadata": {
        "id": "NWYF4B6LsM8k",
        "colab_type": "code",
        "outputId": "576723f1-1541-4df0-ef2b-805987838b13",
        "colab": {
          "base_uri": "https://localhost:8080/",
          "height": 87
        }
      },
      "source": [
        "word2vec.wv.most_similar('quijote')"
      ],
      "execution_count": 40,
      "outputs": [
        {
          "output_type": "stream",
          "text": [
            "/usr/local/lib/python3.6/dist-packages/gensim/matutils.py:737: FutureWarning: Conversion of the second argument of issubdtype from `int` to `np.signedinteger` is deprecated. In future, it will be treated as `np.int64 == np.dtype(int).type`.\n",
            "  if np.issubdtype(vec.dtype, np.int):\n"
          ],
          "name": "stderr"
        },
        {
          "output_type": "execute_result",
          "data": {
            "text/plain": [
              "[('caballero', 0.6501399278640747), ('n', 0.6350195407867432), ('s', 0.6288599371910095), ('libro', 0.6282747387886047), ('as', 0.6254605054855347), ('l', 0.624212384223938), ('tan', 0.5963011384010315), ('m', 0.590735137462616), ('don', 0.5683658719062805), ('hab', 0.5570464134216309)]"
            ]
          },
          "metadata": {
            "tags": []
          },
          "execution_count": 40
        }
      ]
    },
    {
      "cell_type": "code",
      "metadata": {
        "id": "IC7835ydXVPk",
        "colab_type": "code",
        "colab": {
          "base_uri": "https://localhost:8080/",
          "height": 87
        },
        "outputId": "6cc2bd3b-4f75-4204-9960-e6fec531b473"
      },
      "source": [
        "word2vec.wv.most_similar('romance')"
      ],
      "execution_count": 44,
      "outputs": [
        {
          "output_type": "stream",
          "text": [
            "/usr/local/lib/python3.6/dist-packages/gensim/matutils.py:737: FutureWarning: Conversion of the second argument of issubdtype from `int` to `np.signedinteger` is deprecated. In future, it will be treated as `np.int64 == np.dtype(int).type`.\n",
            "  if np.issubdtype(vec.dtype, np.int):\n"
          ],
          "name": "stderr"
        },
        {
          "output_type": "execute_result",
          "data": {
            "text/plain": [
              "[('sepan', 0.4518909156322479), ('anduviesen', 0.33879369497299194), ('espada', 0.3375695049762726), ('below', 0.32931944727897644), ('debidas', 0.3293147385120392), ('embestirse', 0.3230428397655487), ('seis', 0.3226528763771057), ('comply', 0.32175546884536743), ('amigo', 0.3198544979095459), ('pastoral', 0.3167954981327057)]"
            ]
          },
          "metadata": {
            "tags": []
          },
          "execution_count": 44
        }
      ]
    },
    {
      "cell_type": "code",
      "metadata": {
        "id": "-sYy2NIgXXNW",
        "colab_type": "code",
        "colab": {
          "base_uri": "https://localhost:8080/",
          "height": 87
        },
        "outputId": "fd43cfb1-4a42-404a-c154-b8bf6707ca5b"
      },
      "source": [
        "word2vec.wv.most_similar('beso')"
      ],
      "execution_count": 45,
      "outputs": [
        {
          "output_type": "stream",
          "text": [
            "/usr/local/lib/python3.6/dist-packages/gensim/matutils.py:737: FutureWarning: Conversion of the second argument of issubdtype from `int` to `np.signedinteger` is deprecated. In future, it will be treated as `np.int64 == np.dtype(int).type`.\n",
            "  if np.issubdtype(vec.dtype, np.int):\n"
          ],
          "name": "stderr"
        },
        {
          "output_type": "execute_result",
          "data": {
            "text/plain": [
              "[('ofender', 0.36886632442474365), ('fabricado', 0.34644630551338196), ('comedidamente', 0.3345767855644226), ('rica', 0.3255806863307953), ('espanten', 0.3251650929450989), ('ponerte', 0.3229084014892578), ('oficio', 0.31500738859176636), ('freno', 0.3057684302330017), ('liviandad', 0.3049001097679138), ('obligaciones', 0.30454254150390625)]"
            ]
          },
          "metadata": {
            "tags": []
          },
          "execution_count": 45
        }
      ]
    },
    {
      "cell_type": "markdown",
      "metadata": {
        "id": "aRMNr3qDsM8m",
        "colab_type": "text"
      },
      "source": [
        "Comparamos palabras a ver si encuentra la que no coincida"
      ]
    },
    {
      "cell_type": "code",
      "metadata": {
        "id": "HLbf-TTXsM8n",
        "colab_type": "code",
        "outputId": "bd27f52c-c44b-45f7-95ab-7ce54e26b44f",
        "colab": {
          "base_uri": "https://localhost:8080/",
          "height": 121
        }
      },
      "source": [
        "word2vec.wv.doesnt_match(\"molino dulcinea quijote sancho\".split())"
      ],
      "execution_count": 15,
      "outputs": [
        {
          "output_type": "stream",
          "text": [
            "/usr/local/lib/python3.6/dist-packages/gensim/models/keyedvectors.py:895: FutureWarning: arrays to stack must be passed as a \"sequence\" type such as list or tuple. Support for non-sequence iterables such as generators is deprecated as of NumPy 1.16 and will raise an error in the future.\n",
            "  vectors = vstack(self.word_vec(word, use_norm=True) for word in used_words).astype(REAL)\n",
            "/usr/local/lib/python3.6/dist-packages/gensim/matutils.py:737: FutureWarning: Conversion of the second argument of issubdtype from `int` to `np.signedinteger` is deprecated. In future, it will be treated as `np.int64 == np.dtype(int).type`.\n",
            "  if np.issubdtype(vec.dtype, np.int):\n"
          ],
          "name": "stderr"
        },
        {
          "output_type": "execute_result",
          "data": {
            "text/plain": [
              "'molino'"
            ]
          },
          "metadata": {
            "tags": []
          },
          "execution_count": 15
        }
      ]
    },
    {
      "cell_type": "markdown",
      "metadata": {
        "id": "wjk5ZqODV9vN",
        "colab_type": "text"
      },
      "source": [
        "Vemos que en este caso funciona bien y escoge la palabra que no es un nombre propio"
      ]
    },
    {
      "cell_type": "code",
      "metadata": {
        "id": "1636A6VLsM8p",
        "colab_type": "code",
        "outputId": "8fa426be-1051-43f0-9176-22ac4dc484d7",
        "colab": {
          "base_uri": "https://localhost:8080/",
          "height": 121
        }
      },
      "source": [
        "word2vec.most_similar(positive=['dulcinea', 'mujer'], negative=['quijote'])\n",
        "#hombre"
      ],
      "execution_count": 19,
      "outputs": [
        {
          "output_type": "stream",
          "text": [
            "/usr/local/lib/python3.6/dist-packages/ipykernel_launcher.py:1: DeprecationWarning: Call to deprecated `most_similar` (Method will be removed in 4.0.0, use self.wv.most_similar() instead).\n",
            "  \"\"\"Entry point for launching an IPython kernel.\n",
            "/usr/local/lib/python3.6/dist-packages/gensim/matutils.py:737: FutureWarning: Conversion of the second argument of issubdtype from `int` to `np.signedinteger` is deprecated. In future, it will be treated as `np.int64 == np.dtype(int).type`.\n",
            "  if np.issubdtype(vec.dtype, np.int):\n"
          ],
          "name": "stderr"
        },
        {
          "output_type": "execute_result",
          "data": {
            "text/plain": [
              "[('tripas', 0.36279043555259705), ('acometer', 0.35118693113327026), ('valencia', 0.3494254946708679), ('dejarte', 0.33804067969322205), ('accidente', 0.33035317063331604), ('rcese', 0.32622841000556946), ('mochacho', 0.32588890194892883), ('arremetida', 0.32518863677978516), ('hiere', 0.3196660876274109), ('avenid', 0.3147321939468384)]"
            ]
          },
          "metadata": {
            "tags": []
          },
          "execution_count": 19
        }
      ]
    },
    {
      "cell_type": "markdown",
      "metadata": {
        "id": "s9OFydOQWEdx",
        "colab_type": "text"
      },
      "source": [
        "En este caso no funciona, quizás por diferencias en el lenguaje antiguo\n",
        "\n",
        "Probamos otro, por curiosidad a ver qué encuentra:"
      ]
    },
    {
      "cell_type": "code",
      "metadata": {
        "id": "rz7Rxy6-WIJn",
        "colab_type": "code",
        "colab": {
          "base_uri": "https://localhost:8080/",
          "height": 121
        },
        "outputId": "4a1d7baf-bb50-48e6-c4ba-8bde7d662495"
      },
      "source": [
        "word2vec.most_similar(positive=['pueblo', 'molino'], negative=['ciudad'])\n"
      ],
      "execution_count": 27,
      "outputs": [
        {
          "output_type": "stream",
          "text": [
            "/usr/local/lib/python3.6/dist-packages/ipykernel_launcher.py:1: DeprecationWarning: Call to deprecated `most_similar` (Method will be removed in 4.0.0, use self.wv.most_similar() instead).\n",
            "  \"\"\"Entry point for launching an IPython kernel.\n",
            "/usr/local/lib/python3.6/dist-packages/gensim/matutils.py:737: FutureWarning: Conversion of the second argument of issubdtype from `int` to `np.signedinteger` is deprecated. In future, it will be treated as `np.int64 == np.dtype(int).type`.\n",
            "  if np.issubdtype(vec.dtype, np.int):\n"
          ],
          "name": "stderr"
        },
        {
          "output_type": "execute_result",
          "data": {
            "text/plain": [
              "[('alameda', 0.3604122996330261), ('licos', 0.35301512479782104), ('conde', 0.3296282887458801), ('salva', 0.32252705097198486), ('plegarias', 0.3215697407722473), ('ayunos', 0.32117679715156555), ('entreg', 0.31646108627319336), ('mag', 0.31391701102256775), ('proprio', 0.3098894953727722), ('qu', 0.305837482213974)]"
            ]
          },
          "metadata": {
            "tags": []
          },
          "execution_count": 27
        }
      ]
    },
    {
      "cell_type": "markdown",
      "metadata": {
        "id": "1K-wzTtDsM8w",
        "colab_type": "text"
      },
      "source": [
        "Semantic distance between words"
      ]
    },
    {
      "cell_type": "code",
      "metadata": {
        "id": "muvD22cJsM8x",
        "colab_type": "code",
        "colab": {}
      },
      "source": [
        "def nearest_similarity_cosmul(start1, end1, end2):\n",
        "    similarities = word2vec.wv.most_similar_cosmul(\n",
        "        positive=[end2, start1],\n",
        "        negative=[end1]\n",
        "    )\n",
        "    start2 = similarities[0][0]\n",
        "    print(\"{0} es a {1}, lo que {2} es a {3}\".format(start1, end1, start2, end2))"
      ],
      "execution_count": 0,
      "outputs": []
    },
    {
      "cell_type": "code",
      "metadata": {
        "id": "0Tjyq8a7sM82",
        "colab_type": "code",
        "outputId": "fb4ad7bf-7f90-4974-dd2c-ddae5d527e0d",
        "colab": {
          "base_uri": "https://localhost:8080/",
          "height": 34
        }
      },
      "source": [
        "nearest_similarity_cosmul(\"quijote\", \"caballero\", \"sancho\")"
      ],
      "execution_count": 30,
      "outputs": [
        {
          "output_type": "stream",
          "text": [
            "quijote es a caballero, lo que cena es a sancho\n"
          ],
          "name": "stdout"
        }
      ]
    },
    {
      "cell_type": "markdown",
      "metadata": {
        "id": "5iHp8woPWtWt",
        "colab_type": "text"
      },
      "source": [
        "Esperariamos que dijera escudero, pero en cambio vemos que a Sancho le gustan las cenas!"
      ]
    },
    {
      "cell_type": "markdown",
      "metadata": {
        "id": "640iGQzvWynv",
        "colab_type": "text"
      },
      "source": [
        "Probamos mas"
      ]
    },
    {
      "cell_type": "code",
      "metadata": {
        "id": "desRgrPHWzJw",
        "colab_type": "code",
        "colab": {
          "base_uri": "https://localhost:8080/",
          "height": 34
        },
        "outputId": "9993b37b-5bc0-48cc-de00-285d3cfa5869"
      },
      "source": [
        "nearest_similarity_cosmul(\"quijote\", \"noble\", \"sancho\")"
      ],
      "execution_count": 39,
      "outputs": [
        {
          "output_type": "stream",
          "text": [
            "quijote es a noble, lo que desmande es a sancho\n"
          ],
          "name": "stdout"
        }
      ]
    }
  ]
}
